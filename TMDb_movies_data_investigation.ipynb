{
  "nbformat": 4,
  "nbformat_minor": 0,
  "metadata": {
    "colab": {
      "name": "TMDb movies data investigation.ipynb",
      "provenance": [],
      "collapsed_sections": [
        "haSZK-yK4-ZG",
        "BJ_LNsy-uY9-",
        "6nDmHa4dvS02",
        "SPVyFMX0wJnz",
        "rePSCYAUCXy-"
      ],
      "authorship_tag": "ABX9TyNBX8buNh6oefQ+pkkcqIMB",
      "include_colab_link": true
    },
    "kernelspec": {
      "display_name": "Python 3",
      "name": "python3"
    },
    "language_info": {
      "name": "python"
    }
  },
  "cells": [
    {
      "cell_type": "markdown",
      "metadata": {
        "id": "view-in-github",
        "colab_type": "text"
      },
      "source": [
        "<a href=\"https://colab.research.google.com/github/YahiaML/TMDb-movies-data-investigation/blob/main/TMDb_movies_data_investigation.ipynb\" target=\"_parent\"><img src=\"https://colab.research.google.com/assets/colab-badge.svg\" alt=\"Open In Colab\"/></a>"
      ]
    },
    {
      "cell_type": "markdown",
      "metadata": {
        "id": "TSioarcF50_4"
      },
      "source": [
        "#Project: Investigate a Dataset - [TMDb movie data]\n",
        "\n",
        "To see the analysis report: https://drive.google.com/file/d/1Ow6-BOgrP4qmlJlximXFSk1tB2f7exVG/view?usp=sharing \n",
        "\n",
        "click on ![icon.PNG](data:image/png;base64,iVBORw0KGgoAAAANSUhEUgAAAB4AAAAhCAYAAADOHBvaAAAAAXNSR0IArs4c6QAAAARnQU1BAACxjwv8YQUAAAAJcEhZcwAADsMAAA7DAcdvqGQAAACmSURBVFhH7ZQhDgQhDEX3qtjRaDSHwKLhDnAHNBqN7gbCmg1Jye5MQfQlPxlM36Q/6Qs2wWIyWEwGi8k4V2yMASkllFIgpQTe+6WEEMaEOaj4ui4QQnSpc65/r0RrPSbMQcU5Z/Tvf+Hcjmutvd+7QcVKqd7ZZ+Wtu5VYa8eEOeeKt636KVBxW3GMcbzuAxVvOyDfJ7PJV/L3yXwKFpPBYjJYTATAG4H58t4YWJPyAAAAAElFTkSuQmCC) icon to see the table of contents\n",
        "\n",
        "**Note:**\n",
        "\n",
        "This data was cleaned from original data on Kaggle: https://www.kaggle.com/tmdb/tmdb-movie-metadata."
      ]
    },
    {
      "cell_type": "markdown",
      "metadata": {
        "id": "WVYvFClM5_l9"
      },
      "source": [
        "#Introduction"
      ]
    },
    {
      "cell_type": "markdown",
      "metadata": {
        "id": "u4JVHMhM6KOE"
      },
      "source": [
        "## Dataset Description"
      ]
    },
    {
      "cell_type": "markdown",
      "metadata": {
        "id": "Jsh3jkT26M_U"
      },
      "source": [
        "**TMDb movie data** is a dataset containing 21 columns for 10866 Movies,\n",
        "\n",
        "which are :\n",
        "\n",
        "\n",
        "\n",
        "```\n",
        "[id', 'imdb_id', 'popularity', 'budget', 'revenue', 'original_title',\n",
        "       'cast', 'homepage', 'director', 'tagline', 'keywords', 'overview',\n",
        "       'runtime', 'genres', 'production_companies', 'release_date',\n",
        "       'vote_count', 'vote_average', 'release_year', 'budget_adj',\n",
        "       'revenue_adj]\n",
        "```\n",
        "\n",
        "***These columns can be classified as the following :***\n",
        "\n",
        "**1.** Significant columns for this analysis :\n",
        "```\n",
        "['popularity', 'budget', 'revenue', 'genres', 'vote_average' ]\n",
        "```\n",
        "\n",
        "**2.** Helpful columns for this analysis :\n",
        "```\n",
        "['original_title', 'cast','director','runtime', 'production_companies', 'release_date',\n",
        "        'vote_count', 'release_year', 'budget_adj','revenue_adj]\n",
        "```\n",
        "**3.** Columns have nothing to provide us for this analysis: \n",
        "\n",
        "```\n",
        "[\"id\", \t\"imdb_id\", \t\"homepage\", \"tagline\", \"keywords\",\t\"overview\"]\n",
        "```\n",
        "\n"
      ]
    },
    {
      "cell_type": "markdown",
      "metadata": {
        "id": "n8_yGCBi_wmJ"
      },
      "source": [
        "##Question(s) for Analysis"
      ]
    },
    {
      "cell_type": "markdown",
      "metadata": {
        "id": "ejUTutAz_1vj"
      },
      "source": [
        "1. Which genres are most popular from year to year?\n",
        "2. Are the high revenue related to the high popularity?\n",
        "3. Which properties affects the movie vote average?\n",
        "4. Which stars have the highest vote average movies?\n",
        "5. Which directors have the highest vote average movies?\n"
      ]
    },
    {
      "cell_type": "markdown",
      "metadata": {
        "id": "296z3tic7Xy7"
      },
      "source": [
        "# Data Wrangling"
      ]
    },
    {
      "cell_type": "markdown",
      "metadata": {
        "id": "wEotL2Nztwdf"
      },
      "source": [
        "## General Properties"
      ]
    },
    {
      "cell_type": "code",
      "metadata": {
        "id": "yzVHwhrW3k_0"
      },
      "source": [
        "import pandas as pd\n",
        "import matplotlib.pyplot as plt\n",
        "import seaborn as sns"
      ],
      "execution_count": null,
      "outputs": []
    },
    {
      "cell_type": "code",
      "metadata": {
        "id": "4lV-540Q30J0"
      },
      "source": [
        "df = pd.read_csv(\"https://raw.githubusercontent.com/YahiaML/TMDb-movies-data-investigation/main/tmdb-movies.csv\")"
      ],
      "execution_count": null,
      "outputs": []
    },
    {
      "cell_type": "markdown",
      "metadata": {
        "id": "AHqxxkf7t1uM"
      },
      "source": [
        "Having a general look at the data"
      ]
    },
    {
      "cell_type": "code",
      "metadata": {
        "colab": {
          "base_uri": "https://localhost:8080/"
        },
        "id": "8Zws0dfv36Dw",
        "outputId": "d7b35db7-8356-446a-aba0-da2e47e0e691"
      },
      "source": [
        "df.head()"
      ],
      "execution_count": null,
      "outputs": [
        {
          "output_type": "execute_result",
          "data": {
            "text/html": [
              "<div>\n",
              "<style scoped>\n",
              "    .dataframe tbody tr th:only-of-type {\n",
              "        vertical-align: middle;\n",
              "    }\n",
              "\n",
              "    .dataframe tbody tr th {\n",
              "        vertical-align: top;\n",
              "    }\n",
              "\n",
              "    .dataframe thead th {\n",
              "        text-align: right;\n",
              "    }\n",
              "</style>\n",
              "<table border=\"1\" class=\"dataframe\">\n",
              "  <thead>\n",
              "    <tr style=\"text-align: right;\">\n",
              "      <th></th>\n",
              "      <th>id</th>\n",
              "      <th>imdb_id</th>\n",
              "      <th>popularity</th>\n",
              "      <th>budget</th>\n",
              "      <th>revenue</th>\n",
              "      <th>original_title</th>\n",
              "      <th>cast</th>\n",
              "      <th>homepage</th>\n",
              "      <th>director</th>\n",
              "      <th>tagline</th>\n",
              "      <th>keywords</th>\n",
              "      <th>overview</th>\n",
              "      <th>runtime</th>\n",
              "      <th>genres</th>\n",
              "      <th>production_companies</th>\n",
              "      <th>release_date</th>\n",
              "      <th>vote_count</th>\n",
              "      <th>vote_average</th>\n",
              "      <th>release_year</th>\n",
              "      <th>budget_adj</th>\n",
              "      <th>revenue_adj</th>\n",
              "    </tr>\n",
              "  </thead>\n",
              "  <tbody>\n",
              "    <tr>\n",
              "      <th>0</th>\n",
              "      <td>135397</td>\n",
              "      <td>tt0369610</td>\n",
              "      <td>32.985763</td>\n",
              "      <td>150000000</td>\n",
              "      <td>1513528810</td>\n",
              "      <td>Jurassic World</td>\n",
              "      <td>Chris Pratt|Bryce Dallas Howard|Irrfan Khan|Vi...</td>\n",
              "      <td>http://www.jurassicworld.com/</td>\n",
              "      <td>Colin Trevorrow</td>\n",
              "      <td>The park is open.</td>\n",
              "      <td>monster|dna|tyrannosaurus rex|velociraptor|island</td>\n",
              "      <td>Twenty-two years after the events of Jurassic ...</td>\n",
              "      <td>124</td>\n",
              "      <td>Action|Adventure|Science Fiction|Thriller</td>\n",
              "      <td>Universal Studios|Amblin Entertainment|Legenda...</td>\n",
              "      <td>6/9/15</td>\n",
              "      <td>5562</td>\n",
              "      <td>6.5</td>\n",
              "      <td>2015</td>\n",
              "      <td>1.379999e+08</td>\n",
              "      <td>1.392446e+09</td>\n",
              "    </tr>\n",
              "    <tr>\n",
              "      <th>1</th>\n",
              "      <td>76341</td>\n",
              "      <td>tt1392190</td>\n",
              "      <td>28.419936</td>\n",
              "      <td>150000000</td>\n",
              "      <td>378436354</td>\n",
              "      <td>Mad Max: Fury Road</td>\n",
              "      <td>Tom Hardy|Charlize Theron|Hugh Keays-Byrne|Nic...</td>\n",
              "      <td>http://www.madmaxmovie.com/</td>\n",
              "      <td>George Miller</td>\n",
              "      <td>What a Lovely Day.</td>\n",
              "      <td>future|chase|post-apocalyptic|dystopia|australia</td>\n",
              "      <td>An apocalyptic story set in the furthest reach...</td>\n",
              "      <td>120</td>\n",
              "      <td>Action|Adventure|Science Fiction|Thriller</td>\n",
              "      <td>Village Roadshow Pictures|Kennedy Miller Produ...</td>\n",
              "      <td>5/13/15</td>\n",
              "      <td>6185</td>\n",
              "      <td>7.1</td>\n",
              "      <td>2015</td>\n",
              "      <td>1.379999e+08</td>\n",
              "      <td>3.481613e+08</td>\n",
              "    </tr>\n",
              "    <tr>\n",
              "      <th>2</th>\n",
              "      <td>262500</td>\n",
              "      <td>tt2908446</td>\n",
              "      <td>13.112507</td>\n",
              "      <td>110000000</td>\n",
              "      <td>295238201</td>\n",
              "      <td>Insurgent</td>\n",
              "      <td>Shailene Woodley|Theo James|Kate Winslet|Ansel...</td>\n",
              "      <td>http://www.thedivergentseries.movie/#insurgent</td>\n",
              "      <td>Robert Schwentke</td>\n",
              "      <td>One Choice Can Destroy You</td>\n",
              "      <td>based on novel|revolution|dystopia|sequel|dyst...</td>\n",
              "      <td>Beatrice Prior must confront her inner demons ...</td>\n",
              "      <td>119</td>\n",
              "      <td>Adventure|Science Fiction|Thriller</td>\n",
              "      <td>Summit Entertainment|Mandeville Films|Red Wago...</td>\n",
              "      <td>3/18/15</td>\n",
              "      <td>2480</td>\n",
              "      <td>6.3</td>\n",
              "      <td>2015</td>\n",
              "      <td>1.012000e+08</td>\n",
              "      <td>2.716190e+08</td>\n",
              "    </tr>\n",
              "    <tr>\n",
              "      <th>3</th>\n",
              "      <td>140607</td>\n",
              "      <td>tt2488496</td>\n",
              "      <td>11.173104</td>\n",
              "      <td>200000000</td>\n",
              "      <td>2068178225</td>\n",
              "      <td>Star Wars: The Force Awakens</td>\n",
              "      <td>Harrison Ford|Mark Hamill|Carrie Fisher|Adam D...</td>\n",
              "      <td>http://www.starwars.com/films/star-wars-episod...</td>\n",
              "      <td>J.J. Abrams</td>\n",
              "      <td>Every generation has a story.</td>\n",
              "      <td>android|spaceship|jedi|space opera|3d</td>\n",
              "      <td>Thirty years after defeating the Galactic Empi...</td>\n",
              "      <td>136</td>\n",
              "      <td>Action|Adventure|Science Fiction|Fantasy</td>\n",
              "      <td>Lucasfilm|Truenorth Productions|Bad Robot</td>\n",
              "      <td>12/15/15</td>\n",
              "      <td>5292</td>\n",
              "      <td>7.5</td>\n",
              "      <td>2015</td>\n",
              "      <td>1.839999e+08</td>\n",
              "      <td>1.902723e+09</td>\n",
              "    </tr>\n",
              "    <tr>\n",
              "      <th>4</th>\n",
              "      <td>168259</td>\n",
              "      <td>tt2820852</td>\n",
              "      <td>9.335014</td>\n",
              "      <td>190000000</td>\n",
              "      <td>1506249360</td>\n",
              "      <td>Furious 7</td>\n",
              "      <td>Vin Diesel|Paul Walker|Jason Statham|Michelle ...</td>\n",
              "      <td>http://www.furious7.com/</td>\n",
              "      <td>James Wan</td>\n",
              "      <td>Vengeance Hits Home</td>\n",
              "      <td>car race|speed|revenge|suspense|car</td>\n",
              "      <td>Deckard Shaw seeks revenge against Dominic Tor...</td>\n",
              "      <td>137</td>\n",
              "      <td>Action|Crime|Thriller</td>\n",
              "      <td>Universal Pictures|Original Film|Media Rights ...</td>\n",
              "      <td>4/1/15</td>\n",
              "      <td>2947</td>\n",
              "      <td>7.3</td>\n",
              "      <td>2015</td>\n",
              "      <td>1.747999e+08</td>\n",
              "      <td>1.385749e+09</td>\n",
              "    </tr>\n",
              "  </tbody>\n",
              "</table>\n",
              "</div>"
            ],
            "text/plain": [
              "       id    imdb_id  popularity  ...  release_year    budget_adj   revenue_adj\n",
              "0  135397  tt0369610   32.985763  ...          2015  1.379999e+08  1.392446e+09\n",
              "1   76341  tt1392190   28.419936  ...          2015  1.379999e+08  3.481613e+08\n",
              "2  262500  tt2908446   13.112507  ...          2015  1.012000e+08  2.716190e+08\n",
              "3  140607  tt2488496   11.173104  ...          2015  1.839999e+08  1.902723e+09\n",
              "4  168259  tt2820852    9.335014  ...          2015  1.747999e+08  1.385749e+09\n",
              "\n",
              "[5 rows x 21 columns]"
            ]
          },
          "metadata": {},
          "execution_count": 314
        }
      ]
    },
    {
      "cell_type": "markdown",
      "metadata": {
        "id": "8wyKfA-rvIcA"
      },
      "source": [
        "* columns `[\"id\",     \"imdb_id\",     \"homepage\", \"tagline\", \"keywords\",    \"overview\"]` are useless\n"
      ]
    },
    {
      "cell_type": "markdown",
      "metadata": {
        "id": "qhbLvS1MuMHY"
      },
      "source": [
        "Having a look at the data type of each column"
      ]
    },
    {
      "cell_type": "code",
      "metadata": {
        "colab": {
          "base_uri": "https://localhost:8080/"
        },
        "id": "B2ON8s7M7K89",
        "outputId": "6ce8d411-035b-473a-f3b5-38c1853640ca"
      },
      "source": [
        "df.info()"
      ],
      "execution_count": null,
      "outputs": [
        {
          "output_type": "stream",
          "name": "stdout",
          "text": [
            "<class 'pandas.core.frame.DataFrame'>\n",
            "RangeIndex: 10866 entries, 0 to 10865\n",
            "Data columns (total 21 columns):\n",
            " #   Column                Non-Null Count  Dtype  \n",
            "---  ------                --------------  -----  \n",
            " 0   id                    10866 non-null  int64  \n",
            " 1   imdb_id               10856 non-null  object \n",
            " 2   popularity            10866 non-null  float64\n",
            " 3   budget                10866 non-null  int64  \n",
            " 4   revenue               10866 non-null  int64  \n",
            " 5   original_title        10866 non-null  object \n",
            " 6   cast                  10790 non-null  object \n",
            " 7   homepage              2936 non-null   object \n",
            " 8   director              10822 non-null  object \n",
            " 9   tagline               8042 non-null   object \n",
            " 10  keywords              9373 non-null   object \n",
            " 11  overview              10862 non-null  object \n",
            " 12  runtime               10866 non-null  int64  \n",
            " 13  genres                10843 non-null  object \n",
            " 14  production_companies  9836 non-null   object \n",
            " 15  release_date          10866 non-null  object \n",
            " 16  vote_count            10866 non-null  int64  \n",
            " 17  vote_average          10866 non-null  float64\n",
            " 18  release_year          10866 non-null  int64  \n",
            " 19  budget_adj            10866 non-null  float64\n",
            " 20  revenue_adj           10866 non-null  float64\n",
            "dtypes: float64(4), int64(6), object(11)\n",
            "memory usage: 1.7+ MB\n"
          ]
        }
      ]
    },
    {
      "cell_type": "markdown",
      "metadata": {
        "id": "yCYKHxXxwAia"
      },
      "source": [
        "* **release_date** type needs to be changed\n"
      ]
    },
    {
      "cell_type": "markdown",
      "metadata": {
        "id": "MG4uqrwY4ClE"
      },
      "source": [
        "Checking if there is any missing data"
      ]
    },
    {
      "cell_type": "code",
      "metadata": {
        "colab": {
          "base_uri": "https://localhost:8080/"
        },
        "id": "iVDl4RyMugle",
        "outputId": "a31633d5-e204-4ae7-a48c-7af68dfabdf9"
      },
      "source": [
        "df.isnull().sum()"
      ],
      "execution_count": null,
      "outputs": [
        {
          "output_type": "execute_result",
          "data": {
            "text/plain": [
              "id                         0\n",
              "imdb_id                   10\n",
              "popularity                 0\n",
              "budget                     0\n",
              "revenue                    0\n",
              "original_title             0\n",
              "cast                      76\n",
              "homepage                7930\n",
              "director                  44\n",
              "tagline                 2824\n",
              "keywords                1493\n",
              "overview                   4\n",
              "runtime                    0\n",
              "genres                    23\n",
              "production_companies    1030\n",
              "release_date               0\n",
              "vote_count                 0\n",
              "vote_average               0\n",
              "release_year               0\n",
              "budget_adj                 0\n",
              "revenue_adj                0\n",
              "dtype: int64"
            ]
          },
          "metadata": {},
          "execution_count": 316
        }
      ]
    },
    {
      "cell_type": "markdown",
      "metadata": {
        "id": "Zsl6oLSI4DuH"
      },
      "source": [
        "* **Cast, homepage, director, tagline, overview, keywords, genres ,and production_companies** columns  have missing data"
      ]
    },
    {
      "cell_type": "markdown",
      "metadata": {
        "id": "SMvQmM294-nZ"
      },
      "source": [
        "Checking if there is any duplicate rows"
      ]
    },
    {
      "cell_type": "code",
      "metadata": {
        "colab": {
          "base_uri": "https://localhost:8080/"
        },
        "id": "JMemkUg4uZ8_",
        "outputId": "741e70a4-39cd-4b95-e901-0e0f39f5133a"
      },
      "source": [
        "sum(df.duplicated())"
      ],
      "execution_count": null,
      "outputs": [
        {
          "output_type": "execute_result",
          "data": {
            "text/plain": [
              "1"
            ]
          },
          "metadata": {},
          "execution_count": 317
        }
      ]
    },
    {
      "cell_type": "markdown",
      "metadata": {
        "id": "wzgKyzLXxa11"
      },
      "source": [
        "* There is one Duplicate row that needs to be deleted"
      ]
    },
    {
      "cell_type": "markdown",
      "metadata": {
        "id": "2vdUVEXu-nAq"
      },
      "source": [
        "***Wrangling Conclusions :***\n",
        "\n",
        "* colomns `[\"id\",     \"imdb_id\",     \"homepage\", \"tagline\", \"keywords\",    \"overview\"]` are useless\n",
        "\n",
        "* **release_date** type needs to be changed\n",
        "\n",
        "* **Cast, homepage, director, tagline, overview, keywords, geners, production_companies** have missing data\n",
        "\n",
        "* There is one Duplicate row that needs to be deleted\n"
      ]
    },
    {
      "cell_type": "markdown",
      "metadata": {
        "id": "_UEnDKeZ7RJN"
      },
      "source": [
        "## Data Cleaning"
      ]
    },
    {
      "cell_type": "markdown",
      "metadata": {
        "id": "haSZK-yK4-ZG"
      },
      "source": [
        "### **1. Remove usless columns**\n"
      ]
    },
    {
      "cell_type": "markdown",
      "metadata": {
        "id": "EBTUYhFn5okx"
      },
      "source": [
        "Columns:\n",
        "```\n",
        "[\"id\", \t\"imdb_id\", \t\"homepage\", \"tagline\", \"keywords\",\t\"overview\"]\n",
        "```\n",
        "\n",
        "have nothing to do with our analysis.\n",
        "\n",
        "So I'll drop them\n"
      ]
    },
    {
      "cell_type": "code",
      "metadata": {
        "id": "XVZK8-2E37dU"
      },
      "source": [
        "df.drop([\"id\", \"imdb_id\", \"homepage\", \"tagline\", \"keywords\", \"overview\"], axis = 1,inplace= True)"
      ],
      "execution_count": null,
      "outputs": []
    },
    {
      "cell_type": "code",
      "metadata": {
        "colab": {
          "base_uri": "https://localhost:8080/"
        },
        "id": "eJJhOsZD7Ds1",
        "outputId": "288a1c2d-fb7e-4c06-c457-a0619cdf9ebd"
      },
      "source": [
        "df.head()"
      ],
      "execution_count": null,
      "outputs": [
        {
          "output_type": "execute_result",
          "data": {
            "text/html": [
              "<div>\n",
              "<style scoped>\n",
              "    .dataframe tbody tr th:only-of-type {\n",
              "        vertical-align: middle;\n",
              "    }\n",
              "\n",
              "    .dataframe tbody tr th {\n",
              "        vertical-align: top;\n",
              "    }\n",
              "\n",
              "    .dataframe thead th {\n",
              "        text-align: right;\n",
              "    }\n",
              "</style>\n",
              "<table border=\"1\" class=\"dataframe\">\n",
              "  <thead>\n",
              "    <tr style=\"text-align: right;\">\n",
              "      <th></th>\n",
              "      <th>popularity</th>\n",
              "      <th>budget</th>\n",
              "      <th>revenue</th>\n",
              "      <th>original_title</th>\n",
              "      <th>cast</th>\n",
              "      <th>director</th>\n",
              "      <th>runtime</th>\n",
              "      <th>genres</th>\n",
              "      <th>production_companies</th>\n",
              "      <th>release_date</th>\n",
              "      <th>vote_count</th>\n",
              "      <th>vote_average</th>\n",
              "      <th>release_year</th>\n",
              "      <th>budget_adj</th>\n",
              "      <th>revenue_adj</th>\n",
              "    </tr>\n",
              "  </thead>\n",
              "  <tbody>\n",
              "    <tr>\n",
              "      <th>0</th>\n",
              "      <td>32.985763</td>\n",
              "      <td>150000000</td>\n",
              "      <td>1513528810</td>\n",
              "      <td>Jurassic World</td>\n",
              "      <td>Chris Pratt|Bryce Dallas Howard|Irrfan Khan|Vi...</td>\n",
              "      <td>Colin Trevorrow</td>\n",
              "      <td>124</td>\n",
              "      <td>Action|Adventure|Science Fiction|Thriller</td>\n",
              "      <td>Universal Studios|Amblin Entertainment|Legenda...</td>\n",
              "      <td>6/9/15</td>\n",
              "      <td>5562</td>\n",
              "      <td>6.5</td>\n",
              "      <td>2015</td>\n",
              "      <td>1.379999e+08</td>\n",
              "      <td>1.392446e+09</td>\n",
              "    </tr>\n",
              "    <tr>\n",
              "      <th>1</th>\n",
              "      <td>28.419936</td>\n",
              "      <td>150000000</td>\n",
              "      <td>378436354</td>\n",
              "      <td>Mad Max: Fury Road</td>\n",
              "      <td>Tom Hardy|Charlize Theron|Hugh Keays-Byrne|Nic...</td>\n",
              "      <td>George Miller</td>\n",
              "      <td>120</td>\n",
              "      <td>Action|Adventure|Science Fiction|Thriller</td>\n",
              "      <td>Village Roadshow Pictures|Kennedy Miller Produ...</td>\n",
              "      <td>5/13/15</td>\n",
              "      <td>6185</td>\n",
              "      <td>7.1</td>\n",
              "      <td>2015</td>\n",
              "      <td>1.379999e+08</td>\n",
              "      <td>3.481613e+08</td>\n",
              "    </tr>\n",
              "    <tr>\n",
              "      <th>2</th>\n",
              "      <td>13.112507</td>\n",
              "      <td>110000000</td>\n",
              "      <td>295238201</td>\n",
              "      <td>Insurgent</td>\n",
              "      <td>Shailene Woodley|Theo James|Kate Winslet|Ansel...</td>\n",
              "      <td>Robert Schwentke</td>\n",
              "      <td>119</td>\n",
              "      <td>Adventure|Science Fiction|Thriller</td>\n",
              "      <td>Summit Entertainment|Mandeville Films|Red Wago...</td>\n",
              "      <td>3/18/15</td>\n",
              "      <td>2480</td>\n",
              "      <td>6.3</td>\n",
              "      <td>2015</td>\n",
              "      <td>1.012000e+08</td>\n",
              "      <td>2.716190e+08</td>\n",
              "    </tr>\n",
              "    <tr>\n",
              "      <th>3</th>\n",
              "      <td>11.173104</td>\n",
              "      <td>200000000</td>\n",
              "      <td>2068178225</td>\n",
              "      <td>Star Wars: The Force Awakens</td>\n",
              "      <td>Harrison Ford|Mark Hamill|Carrie Fisher|Adam D...</td>\n",
              "      <td>J.J. Abrams</td>\n",
              "      <td>136</td>\n",
              "      <td>Action|Adventure|Science Fiction|Fantasy</td>\n",
              "      <td>Lucasfilm|Truenorth Productions|Bad Robot</td>\n",
              "      <td>12/15/15</td>\n",
              "      <td>5292</td>\n",
              "      <td>7.5</td>\n",
              "      <td>2015</td>\n",
              "      <td>1.839999e+08</td>\n",
              "      <td>1.902723e+09</td>\n",
              "    </tr>\n",
              "    <tr>\n",
              "      <th>4</th>\n",
              "      <td>9.335014</td>\n",
              "      <td>190000000</td>\n",
              "      <td>1506249360</td>\n",
              "      <td>Furious 7</td>\n",
              "      <td>Vin Diesel|Paul Walker|Jason Statham|Michelle ...</td>\n",
              "      <td>James Wan</td>\n",
              "      <td>137</td>\n",
              "      <td>Action|Crime|Thriller</td>\n",
              "      <td>Universal Pictures|Original Film|Media Rights ...</td>\n",
              "      <td>4/1/15</td>\n",
              "      <td>2947</td>\n",
              "      <td>7.3</td>\n",
              "      <td>2015</td>\n",
              "      <td>1.747999e+08</td>\n",
              "      <td>1.385749e+09</td>\n",
              "    </tr>\n",
              "  </tbody>\n",
              "</table>\n",
              "</div>"
            ],
            "text/plain": [
              "   popularity     budget     revenue  ... release_year    budget_adj   revenue_adj\n",
              "0   32.985763  150000000  1513528810  ...         2015  1.379999e+08  1.392446e+09\n",
              "1   28.419936  150000000   378436354  ...         2015  1.379999e+08  3.481613e+08\n",
              "2   13.112507  110000000   295238201  ...         2015  1.012000e+08  2.716190e+08\n",
              "3   11.173104  200000000  2068178225  ...         2015  1.839999e+08  1.902723e+09\n",
              "4    9.335014  190000000  1506249360  ...         2015  1.747999e+08  1.385749e+09\n",
              "\n",
              "[5 rows x 15 columns]"
            ]
          },
          "metadata": {},
          "execution_count": 319
        }
      ]
    },
    {
      "cell_type": "code",
      "metadata": {
        "colab": {
          "base_uri": "https://localhost:8080/"
        },
        "id": "2KJX35Vx7taw",
        "outputId": "3294aac9-7126-43b5-c5dc-4b62fe5fd0d8"
      },
      "source": [
        "df.info()"
      ],
      "execution_count": null,
      "outputs": [
        {
          "output_type": "stream",
          "name": "stdout",
          "text": [
            "<class 'pandas.core.frame.DataFrame'>\n",
            "RangeIndex: 10866 entries, 0 to 10865\n",
            "Data columns (total 15 columns):\n",
            " #   Column                Non-Null Count  Dtype  \n",
            "---  ------                --------------  -----  \n",
            " 0   popularity            10866 non-null  float64\n",
            " 1   budget                10866 non-null  int64  \n",
            " 2   revenue               10866 non-null  int64  \n",
            " 3   original_title        10866 non-null  object \n",
            " 4   cast                  10790 non-null  object \n",
            " 5   director              10822 non-null  object \n",
            " 6   runtime               10866 non-null  int64  \n",
            " 7   genres                10843 non-null  object \n",
            " 8   production_companies  9836 non-null   object \n",
            " 9   release_date          10866 non-null  object \n",
            " 10  vote_count            10866 non-null  int64  \n",
            " 11  vote_average          10866 non-null  float64\n",
            " 12  release_year          10866 non-null  int64  \n",
            " 13  budget_adj            10866 non-null  float64\n",
            " 14  revenue_adj           10866 non-null  float64\n",
            "dtypes: float64(4), int64(5), object(6)\n",
            "memory usage: 1.2+ MB\n"
          ]
        }
      ]
    },
    {
      "cell_type": "markdown",
      "metadata": {
        "id": "BJ_LNsy-uY9-"
      },
      "source": [
        "### **2. Handle wrong formats**\n"
      ]
    },
    {
      "cell_type": "markdown",
      "metadata": {
        "id": "JqNAHNAM0XmJ"
      },
      "source": [
        "release_date is formatted as object\n",
        "\n",
        "I'll convert it to date_time format"
      ]
    },
    {
      "cell_type": "code",
      "metadata": {
        "colab": {
          "base_uri": "https://localhost:8080/"
        },
        "id": "Mf1_9VdP0eE7",
        "outputId": "ae375a79-1141-4a8d-afe6-39bde2894e2a"
      },
      "source": [
        "df.info()"
      ],
      "execution_count": null,
      "outputs": [
        {
          "output_type": "stream",
          "name": "stdout",
          "text": [
            "<class 'pandas.core.frame.DataFrame'>\n",
            "RangeIndex: 10866 entries, 0 to 10865\n",
            "Data columns (total 15 columns):\n",
            " #   Column                Non-Null Count  Dtype  \n",
            "---  ------                --------------  -----  \n",
            " 0   popularity            10866 non-null  float64\n",
            " 1   budget                10866 non-null  int64  \n",
            " 2   revenue               10866 non-null  int64  \n",
            " 3   original_title        10866 non-null  object \n",
            " 4   cast                  10790 non-null  object \n",
            " 5   director              10822 non-null  object \n",
            " 6   runtime               10866 non-null  int64  \n",
            " 7   genres                10843 non-null  object \n",
            " 8   production_companies  9836 non-null   object \n",
            " 9   release_date          10866 non-null  object \n",
            " 10  vote_count            10866 non-null  int64  \n",
            " 11  vote_average          10866 non-null  float64\n",
            " 12  release_year          10866 non-null  int64  \n",
            " 13  budget_adj            10866 non-null  float64\n",
            " 14  revenue_adj           10866 non-null  float64\n",
            "dtypes: float64(4), int64(5), object(6)\n",
            "memory usage: 1.2+ MB\n"
          ]
        }
      ]
    },
    {
      "cell_type": "code",
      "metadata": {
        "id": "ZGld6EFE5IlO"
      },
      "source": [
        "df['release_date'] = pd.to_datetime(df['release_date'])"
      ],
      "execution_count": null,
      "outputs": []
    },
    {
      "cell_type": "code",
      "metadata": {
        "colab": {
          "base_uri": "https://localhost:8080/"
        },
        "id": "HTFUtT3EuuOD",
        "outputId": "eb0779de-ec08-45d4-ac4b-c5c228afcd33"
      },
      "source": [
        "df.info()"
      ],
      "execution_count": null,
      "outputs": [
        {
          "output_type": "stream",
          "name": "stdout",
          "text": [
            "<class 'pandas.core.frame.DataFrame'>\n",
            "RangeIndex: 10866 entries, 0 to 10865\n",
            "Data columns (total 15 columns):\n",
            " #   Column                Non-Null Count  Dtype         \n",
            "---  ------                --------------  -----         \n",
            " 0   popularity            10866 non-null  float64       \n",
            " 1   budget                10866 non-null  int64         \n",
            " 2   revenue               10866 non-null  int64         \n",
            " 3   original_title        10866 non-null  object        \n",
            " 4   cast                  10790 non-null  object        \n",
            " 5   director              10822 non-null  object        \n",
            " 6   runtime               10866 non-null  int64         \n",
            " 7   genres                10843 non-null  object        \n",
            " 8   production_companies  9836 non-null   object        \n",
            " 9   release_date          10866 non-null  datetime64[ns]\n",
            " 10  vote_count            10866 non-null  int64         \n",
            " 11  vote_average          10866 non-null  float64       \n",
            " 12  release_year          10866 non-null  int64         \n",
            " 13  budget_adj            10866 non-null  float64       \n",
            " 14  revenue_adj           10866 non-null  float64       \n",
            "dtypes: datetime64[ns](1), float64(4), int64(5), object(5)\n",
            "memory usage: 1.2+ MB\n"
          ]
        }
      ]
    },
    {
      "cell_type": "markdown",
      "metadata": {
        "id": "6nDmHa4dvS02"
      },
      "source": [
        "### **3. remove Duplicates**"
      ]
    },
    {
      "cell_type": "code",
      "metadata": {
        "colab": {
          "base_uri": "https://localhost:8080/"
        },
        "id": "a1UCFyGSuwLr",
        "outputId": "6a279bcd-1da9-4df0-bdb4-4107fa702167"
      },
      "source": [
        "sum(df.duplicated())"
      ],
      "execution_count": null,
      "outputs": [
        {
          "output_type": "execute_result",
          "data": {
            "text/plain": [
              "1"
            ]
          },
          "metadata": {},
          "execution_count": 326
        }
      ]
    },
    {
      "cell_type": "code",
      "metadata": {
        "colab": {
          "base_uri": "https://localhost:8080/"
        },
        "id": "y3GMVXUNwPID",
        "outputId": "72f087fc-d683-4506-b2f8-0a104b3d1cd3"
      },
      "source": [
        "df[df.duplicated() == True]"
      ],
      "execution_count": null,
      "outputs": [
        {
          "output_type": "execute_result",
          "data": {
            "text/html": [
              "<div>\n",
              "<style scoped>\n",
              "    .dataframe tbody tr th:only-of-type {\n",
              "        vertical-align: middle;\n",
              "    }\n",
              "\n",
              "    .dataframe tbody tr th {\n",
              "        vertical-align: top;\n",
              "    }\n",
              "\n",
              "    .dataframe thead th {\n",
              "        text-align: right;\n",
              "    }\n",
              "</style>\n",
              "<table border=\"1\" class=\"dataframe\">\n",
              "  <thead>\n",
              "    <tr style=\"text-align: right;\">\n",
              "      <th></th>\n",
              "      <th>popularity</th>\n",
              "      <th>budget</th>\n",
              "      <th>revenue</th>\n",
              "      <th>original_title</th>\n",
              "      <th>cast</th>\n",
              "      <th>director</th>\n",
              "      <th>runtime</th>\n",
              "      <th>genres</th>\n",
              "      <th>production_companies</th>\n",
              "      <th>release_date</th>\n",
              "      <th>vote_count</th>\n",
              "      <th>vote_average</th>\n",
              "      <th>release_year</th>\n",
              "      <th>budget_adj</th>\n",
              "      <th>revenue_adj</th>\n",
              "    </tr>\n",
              "  </thead>\n",
              "  <tbody>\n",
              "    <tr>\n",
              "      <th>2090</th>\n",
              "      <td>0.59643</td>\n",
              "      <td>30000000</td>\n",
              "      <td>967000</td>\n",
              "      <td>TEKKEN</td>\n",
              "      <td>Jon Foo|Kelly Overton|Cary-Hiroyuki Tagawa|Ian...</td>\n",
              "      <td>Dwight H. Little</td>\n",
              "      <td>92</td>\n",
              "      <td>Crime|Drama|Action|Thriller|Science Fiction</td>\n",
              "      <td>Namco|Light Song Films</td>\n",
              "      <td>2010-03-20</td>\n",
              "      <td>110</td>\n",
              "      <td>5.0</td>\n",
              "      <td>2010</td>\n",
              "      <td>30000000.0</td>\n",
              "      <td>967000.0</td>\n",
              "    </tr>\n",
              "  </tbody>\n",
              "</table>\n",
              "</div>"
            ],
            "text/plain": [
              "      popularity    budget  revenue  ... release_year  budget_adj revenue_adj\n",
              "2090     0.59643  30000000   967000  ...         2010  30000000.0    967000.0\n",
              "\n",
              "[1 rows x 15 columns]"
            ]
          },
          "metadata": {},
          "execution_count": 327
        }
      ]
    },
    {
      "cell_type": "code",
      "metadata": {
        "id": "1_gBSeNbvRS0"
      },
      "source": [
        "df.drop_duplicates(inplace= True)"
      ],
      "execution_count": null,
      "outputs": []
    },
    {
      "cell_type": "code",
      "metadata": {
        "colab": {
          "base_uri": "https://localhost:8080/"
        },
        "id": "eYz7Z4Bcv6bA",
        "outputId": "d9c4db4c-17a9-432e-dbfb-4f0e0ba6a721"
      },
      "source": [
        "sum(df.duplicated())"
      ],
      "execution_count": null,
      "outputs": [
        {
          "output_type": "execute_result",
          "data": {
            "text/plain": [
              "0"
            ]
          },
          "metadata": {},
          "execution_count": 329
        }
      ]
    },
    {
      "cell_type": "markdown",
      "metadata": {
        "id": "SPVyFMX0wJnz"
      },
      "source": [
        "### **4. Handle NAN Values**"
      ]
    },
    {
      "cell_type": "code",
      "metadata": {
        "colab": {
          "base_uri": "https://localhost:8080/"
        },
        "id": "KlSxKkPUwDaN",
        "outputId": "bbdd0383-a4cb-4739-975e-3af5d1b7e807"
      },
      "source": [
        "df.isnull().sum()"
      ],
      "execution_count": null,
      "outputs": [
        {
          "output_type": "execute_result",
          "data": {
            "text/plain": [
              "popularity                 0\n",
              "budget                     0\n",
              "revenue                    0\n",
              "original_title             0\n",
              "cast                      76\n",
              "director                  44\n",
              "runtime                    0\n",
              "genres                    23\n",
              "production_companies    1030\n",
              "release_date               0\n",
              "vote_count                 0\n",
              "vote_average               0\n",
              "release_year               0\n",
              "budget_adj                 0\n",
              "revenue_adj                0\n",
              "dtype: int64"
            ]
          },
          "metadata": {},
          "execution_count": 330
        }
      ]
    },
    {
      "cell_type": "markdown",
      "metadata": {
        "id": "8vw0iZVExTi7"
      },
      "source": [
        "All the NAN values can not be replaced as they all are strings ( can not be filled by mean, mode, ... ect )\n",
        "\n",
        "So, I'll drop them all"
      ]
    },
    {
      "cell_type": "code",
      "metadata": {
        "id": "H7JSoDbzwsXn"
      },
      "source": [
        "df.dropna(axis= 0 , inplace = True)"
      ],
      "execution_count": null,
      "outputs": []
    },
    {
      "cell_type": "code",
      "metadata": {
        "colab": {
          "base_uri": "https://localhost:8080/"
        },
        "id": "UqH8OQKcx_Jl",
        "outputId": "beedd8e4-b1a1-4600-e374-028e79fc3fce"
      },
      "source": [
        "df.isnull().sum()"
      ],
      "execution_count": null,
      "outputs": [
        {
          "output_type": "execute_result",
          "data": {
            "text/plain": [
              "popularity              0\n",
              "budget                  0\n",
              "revenue                 0\n",
              "original_title          0\n",
              "cast                    0\n",
              "director                0\n",
              "runtime                 0\n",
              "genres                  0\n",
              "production_companies    0\n",
              "release_date            0\n",
              "vote_count              0\n",
              "vote_average            0\n",
              "release_year            0\n",
              "budget_adj              0\n",
              "revenue_adj             0\n",
              "dtype: int64"
            ]
          },
          "metadata": {},
          "execution_count": 332
        }
      ]
    },
    {
      "cell_type": "markdown",
      "metadata": {
        "id": "mDu4kXOikxRE"
      },
      "source": [
        "# Exploratory Data Analysis"
      ]
    },
    {
      "cell_type": "code",
      "metadata": {
        "colab": {
          "base_uri": "https://localhost:8080/",
          "height": 300
        },
        "id": "anZTRcdX1hfo",
        "outputId": "9c20d69e-2072-4d34-e2f7-41fd05239d66"
      },
      "source": [
        "df.describe()"
      ],
      "execution_count": null,
      "outputs": [
        {
          "output_type": "execute_result",
          "data": {
            "text/html": [
              "<div>\n",
              "<style scoped>\n",
              "    .dataframe tbody tr th:only-of-type {\n",
              "        vertical-align: middle;\n",
              "    }\n",
              "\n",
              "    .dataframe tbody tr th {\n",
              "        vertical-align: top;\n",
              "    }\n",
              "\n",
              "    .dataframe thead th {\n",
              "        text-align: right;\n",
              "    }\n",
              "</style>\n",
              "<table border=\"1\" class=\"dataframe\">\n",
              "  <thead>\n",
              "    <tr style=\"text-align: right;\">\n",
              "      <th></th>\n",
              "      <th>popularity</th>\n",
              "      <th>budget</th>\n",
              "      <th>revenue</th>\n",
              "      <th>runtime</th>\n",
              "      <th>vote_count</th>\n",
              "      <th>vote_average</th>\n",
              "      <th>release_year</th>\n",
              "      <th>budget_adj</th>\n",
              "      <th>revenue_adj</th>\n",
              "    </tr>\n",
              "  </thead>\n",
              "  <tbody>\n",
              "    <tr>\n",
              "      <th>count</th>\n",
              "      <td>9772.000000</td>\n",
              "      <td>9.772000e+03</td>\n",
              "      <td>9.772000e+03</td>\n",
              "      <td>9772.000000</td>\n",
              "      <td>9772.000000</td>\n",
              "      <td>9772.000000</td>\n",
              "      <td>9772.000000</td>\n",
              "      <td>9.772000e+03</td>\n",
              "      <td>9.772000e+03</td>\n",
              "    </tr>\n",
              "    <tr>\n",
              "      <th>mean</th>\n",
              "      <td>0.694721</td>\n",
              "      <td>1.617967e+07</td>\n",
              "      <td>4.423121e+07</td>\n",
              "      <td>102.926627</td>\n",
              "      <td>239.312014</td>\n",
              "      <td>5.963528</td>\n",
              "      <td>2000.878428</td>\n",
              "      <td>1.941599e+07</td>\n",
              "      <td>5.705309e+07</td>\n",
              "    </tr>\n",
              "    <tr>\n",
              "      <th>std</th>\n",
              "      <td>1.036931</td>\n",
              "      <td>3.221074e+07</td>\n",
              "      <td>1.225889e+08</td>\n",
              "      <td>27.877432</td>\n",
              "      <td>603.011504</td>\n",
              "      <td>0.913174</td>\n",
              "      <td>13.036794</td>\n",
              "      <td>3.566634e+07</td>\n",
              "      <td>1.514499e+08</td>\n",
              "    </tr>\n",
              "    <tr>\n",
              "      <th>min</th>\n",
              "      <td>0.000188</td>\n",
              "      <td>0.000000e+00</td>\n",
              "      <td>0.000000e+00</td>\n",
              "      <td>0.000000</td>\n",
              "      <td>10.000000</td>\n",
              "      <td>1.500000</td>\n",
              "      <td>1960.000000</td>\n",
              "      <td>0.000000e+00</td>\n",
              "      <td>0.000000e+00</td>\n",
              "    </tr>\n",
              "    <tr>\n",
              "      <th>25%</th>\n",
              "      <td>0.232710</td>\n",
              "      <td>0.000000e+00</td>\n",
              "      <td>0.000000e+00</td>\n",
              "      <td>90.000000</td>\n",
              "      <td>18.000000</td>\n",
              "      <td>5.400000</td>\n",
              "      <td>1994.000000</td>\n",
              "      <td>0.000000e+00</td>\n",
              "      <td>0.000000e+00</td>\n",
              "    </tr>\n",
              "    <tr>\n",
              "      <th>50%</th>\n",
              "      <td>0.419762</td>\n",
              "      <td>2.000000e+05</td>\n",
              "      <td>0.000000e+00</td>\n",
              "      <td>100.000000</td>\n",
              "      <td>46.000000</td>\n",
              "      <td>6.000000</td>\n",
              "      <td>2005.000000</td>\n",
              "      <td>3.061342e+05</td>\n",
              "      <td>0.000000e+00</td>\n",
              "    </tr>\n",
              "    <tr>\n",
              "      <th>75%</th>\n",
              "      <td>0.776408</td>\n",
              "      <td>1.928750e+07</td>\n",
              "      <td>3.104729e+07</td>\n",
              "      <td>112.000000</td>\n",
              "      <td>173.000000</td>\n",
              "      <td>6.600000</td>\n",
              "      <td>2011.000000</td>\n",
              "      <td>2.464268e+07</td>\n",
              "      <td>4.311848e+07</td>\n",
              "    </tr>\n",
              "    <tr>\n",
              "      <th>max</th>\n",
              "      <td>32.985763</td>\n",
              "      <td>4.250000e+08</td>\n",
              "      <td>2.781506e+09</td>\n",
              "      <td>877.000000</td>\n",
              "      <td>9767.000000</td>\n",
              "      <td>8.700000</td>\n",
              "      <td>2015.000000</td>\n",
              "      <td>4.250000e+08</td>\n",
              "      <td>2.827124e+09</td>\n",
              "    </tr>\n",
              "  </tbody>\n",
              "</table>\n",
              "</div>"
            ],
            "text/plain": [
              "        popularity        budget  ...    budget_adj   revenue_adj\n",
              "count  9772.000000  9.772000e+03  ...  9.772000e+03  9.772000e+03\n",
              "mean      0.694721  1.617967e+07  ...  1.941599e+07  5.705309e+07\n",
              "std       1.036931  3.221074e+07  ...  3.566634e+07  1.514499e+08\n",
              "min       0.000188  0.000000e+00  ...  0.000000e+00  0.000000e+00\n",
              "25%       0.232710  0.000000e+00  ...  0.000000e+00  0.000000e+00\n",
              "50%       0.419762  2.000000e+05  ...  3.061342e+05  0.000000e+00\n",
              "75%       0.776408  1.928750e+07  ...  2.464268e+07  4.311848e+07\n",
              "max      32.985763  4.250000e+08  ...  4.250000e+08  2.827124e+09\n",
              "\n",
              "[8 rows x 9 columns]"
            ]
          },
          "metadata": {},
          "execution_count": 333
        }
      ]
    },
    {
      "cell_type": "markdown",
      "metadata": {
        "id": "rNrDi4XQ1siw"
      },
      "source": [
        "**Note1:** *budget, revenue,\truntime, budget_adj, revenue_adj*  \n",
        " have zero values.\n",
        "\n",
        "\n",
        "---\n",
        "**Note2:** About 25% of the data have 0 budget!!!\n",
        "\n",
        "\n",
        "---\n",
        "\n",
        "**Note3:** About 50% of the data have 0 revenue!!!\n",
        "\n",
        "\n",
        "---\n",
        "**Note4:** Movie budget has positive correlation with popularity.\n",
        "\n",
        "\n",
        "---\n",
        "\n",
        "**Note5:** Movie popularity has no relation with the revenue.\n",
        "\n",
        "\n",
        "---\n",
        "**Note6:** Vote average has positive correlation with vote counts and both have positive correlation with the popularity.\n",
        "\n",
        "\n",
        "---\n",
        "\n",
        "\n",
        "\n"
      ]
    },
    {
      "cell_type": "markdown",
      "metadata": {
        "id": "tYxa3zRglIKW"
      },
      "source": [
        "##Research Question 1 (Which genres are most popular from year to year?)"
      ]
    },
    {
      "cell_type": "code",
      "metadata": {
        "colab": {
          "base_uri": "https://localhost:8080/"
        },
        "id": "YtuGITOUkNKh",
        "outputId": "56a4d111-e630-4920-bcbf-5119aeb0a727"
      },
      "source": [
        "df[\"genres\"].value_counts()"
      ],
      "execution_count": null,
      "outputs": [
        {
          "output_type": "execute_result",
          "data": {
            "text/plain": [
              "Drama                             638\n",
              "Comedy                            615\n",
              "Drama|Romance                     272\n",
              "Comedy|Drama                      255\n",
              "Comedy|Romance                    248\n",
              "                                 ... \n",
              "Thriller|Horror|Crime               1\n",
              "Drama|Thriller|Fantasy|Mystery      1\n",
              "Family|Action|Drama                 1\n",
              "Thriller|War|Adventure|Drama        1\n",
              "Action|Comedy|Drama|War             1\n",
              "Name: genres, Length: 1916, dtype: int64"
            ]
          },
          "metadata": {},
          "execution_count": 334
        }
      ]
    },
    {
      "cell_type": "markdown",
      "metadata": {
        "id": "iHobiTP1l1uw"
      },
      "source": [
        "genres contains multiple values separated by pipe (|) characters"
      ]
    },
    {
      "cell_type": "markdown",
      "metadata": {
        "id": "u9ULX8h2yeoC"
      },
      "source": [
        "So, we can Analyse the data with two methods"
      ]
    },
    {
      "cell_type": "code",
      "metadata": {
        "id": "dEJrtImvquJk"
      },
      "source": [
        "# insert the year you want to see which genres are the most popular in this year\n",
        "\n",
        "year = 1999   "
      ],
      "execution_count": null,
      "outputs": []
    },
    {
      "cell_type": "markdown",
      "metadata": {
        "id": "C5c34zYeysDH"
      },
      "source": [
        "### **Methode 1 :** Analysing them as they are"
      ]
    },
    {
      "cell_type": "code",
      "metadata": {
        "colab": {
          "base_uri": "https://localhost:8080/",
          "height": 296
        },
        "id": "GSzncs19eQHa",
        "outputId": "98f30cae-41e0-4fa1-c4e2-342fbe1ed93d"
      },
      "source": [
        "selected_year = df[df[\"release_year\"] == year] \n",
        "\n",
        "# Creating a list for Movies geners :\n",
        "geners_list = []\n",
        "\n",
        "for gener in selected_year['genres'] :  \n",
        "    if gener not in geners_list :\n",
        "      geners_list.append(gener)\n",
        "\n",
        "# Creating a list for the popularity for each gener :\n",
        "popularity_list = []\n",
        "\n",
        "for gener in geners_list :\n",
        "    gener_name = selected_year[selected_year['genres']== gener]\n",
        "    popularity_sum = gener_name[\"popularity\"].sum()\n",
        "    popularity_list.append(popularity_sum)\n",
        "\n",
        "# Sorting geners descendingly according to popularity sum :\n",
        "\n",
        "sorted_popularity_list = sorted(popularity_list, reverse=True)\n",
        "\n",
        "sorted_geners_list = []\n",
        "\n",
        "for value in sorted_popularity_list :\n",
        "\n",
        "    popularity_value_index = popularity_list.index(value)\n",
        "    crosponding_gener = geners_list[popularity_value_index]\n",
        "    sorted_geners_list.append(crosponding_gener) \n",
        "\n",
        "\n",
        "# Plotting :\n",
        "\n",
        "#plt.subplots(figsize=(8,10))\n",
        "plt.bar(sorted_geners_list[:3],sorted_popularity_list[:3])\n",
        "def plt_show(X,Y,title,grid=True) :\n",
        "    plt.title(title)\n",
        "    plt.xlabel(X.title())\n",
        "    plt.ylabel(Y.title())\n",
        "    plt.grid(grid)\n",
        "    plt.show()\n",
        "\n",
        "plt_show(\"Genres\",\"popularity\",\"Most popular geners in {}\".format(year))\n"
      ],
      "execution_count": null,
      "outputs": [
        {
          "output_type": "display_data",
          "data": {
            "image/png": "[encoded data removed]",
            "text/plain": [
              "<Figure size 432x288 with 1 Axes>"
            ]
          },
          "metadata": {
            "needs_background": "light"
          }
        }
      ]
    },
    {
      "cell_type": "markdown",
      "metadata": {
        "id": "vWTiHnbwy3DU"
      },
      "source": [
        "This method isn't accurate at all because :"
      ]
    },
    {
      "cell_type": "code",
      "metadata": {
        "colab": {
          "base_uri": "https://localhost:8080/"
        },
        "id": "RCC470gA0TZq",
        "outputId": "3de8c36b-fb95-4c0c-f767-31d49511e83b"
      },
      "source": [
        "df['genres'].value_counts().count()"
      ],
      "execution_count": null,
      "outputs": [
        {
          "output_type": "execute_result",
          "data": {
            "text/plain": [
              "1916"
            ]
          },
          "metadata": {},
          "execution_count": 337
        }
      ]
    },
    {
      "cell_type": "markdown",
      "metadata": {
        "id": "vorNRSKA0YXz"
      },
      "source": [
        "We have 1916 deffirent gener"
      ]
    },
    {
      "cell_type": "markdown",
      "metadata": {
        "id": "nESld1dIzPpa"
      },
      "source": [
        "So, we are going to analyse them throgh the follwing methode"
      ]
    },
    {
      "cell_type": "markdown",
      "metadata": {
        "id": "hf0T0aV0zQMh"
      },
      "source": [
        "### **Methode 2:** Cleaning the genres then analyse"
      ]
    },
    {
      "cell_type": "markdown",
      "metadata": {
        "id": "iePMv1pw7_By"
      },
      "source": [
        "We have to clean geners column (return to the cleaning step again)"
      ]
    },
    {
      "cell_type": "code",
      "metadata": {
        "colab": {
          "base_uri": "https://localhost:8080/"
        },
        "id": "KeV55hILzidB",
        "outputId": "7932257f-6d50-47b3-e33d-4b524b715093"
      },
      "source": [
        "df['genres'].value_counts().count()"
      ],
      "execution_count": null,
      "outputs": [
        {
          "output_type": "execute_result",
          "data": {
            "text/plain": [
              "1916"
            ]
          },
          "metadata": {},
          "execution_count": 338
        }
      ]
    },
    {
      "cell_type": "code",
      "metadata": {
        "id": "QSkD1FMvrrOP"
      },
      "source": [
        "df['genres'] = df['genres'].apply(lambda x: x.split(\"|\")[0])"
      ],
      "execution_count": null,
      "outputs": []
    },
    {
      "cell_type": "code",
      "metadata": {
        "colab": {
          "base_uri": "https://localhost:8080/"
        },
        "id": "GJX9BuRnz7r2",
        "outputId": "f28669fd-2d0c-44e1-bfc4-98e559a5cd28"
      },
      "source": [
        "df['genres'].value_counts().count()"
      ],
      "execution_count": null,
      "outputs": [
        {
          "output_type": "execute_result",
          "data": {
            "text/plain": [
              "20"
            ]
          },
          "metadata": {},
          "execution_count": 340
        }
      ]
    },
    {
      "cell_type": "code",
      "metadata": {
        "colab": {
          "base_uri": "https://localhost:8080/"
        },
        "id": "Uzs-rVgp8mQk",
        "outputId": "8c2e33ef-b90b-46c3-bac0-e31126c23574"
      },
      "source": [
        "df['genres'].value_counts()"
      ],
      "execution_count": null,
      "outputs": [
        {
          "output_type": "execute_result",
          "data": {
            "text/plain": [
              "Drama              2223\n",
              "Comedy             2084\n",
              "Action             1479\n",
              "Horror              853\n",
              "Adventure           550\n",
              "Thriller            474\n",
              "Crime               361\n",
              "Animation           346\n",
              "Documentary         264\n",
              "Fantasy             253\n",
              "Science Fiction     196\n",
              "Romance             161\n",
              "Family              128\n",
              "Mystery             118\n",
              "Music                79\n",
              "TV Movie             59\n",
              "War                  57\n",
              "Western              42\n",
              "History              39\n",
              "Foreign               6\n",
              "Name: genres, dtype: int64"
            ]
          },
          "metadata": {},
          "execution_count": 341
        }
      ]
    },
    {
      "cell_type": "markdown",
      "metadata": {
        "id": "b8AhZnT_8cIp"
      },
      "source": [
        "Now this is more reasonable"
      ]
    },
    {
      "cell_type": "markdown",
      "metadata": {
        "id": "Qvjev-Bc92v6"
      },
      "source": [
        "We have 20 Movie genres instead of 1916"
      ]
    },
    {
      "cell_type": "markdown",
      "metadata": {
        "id": "LtF63u8K-APK"
      },
      "source": [
        "Now lets see Which genres are most popular from year to year"
      ]
    },
    {
      "cell_type": "code",
      "metadata": {
        "colab": {
          "base_uri": "https://localhost:8080/",
          "height": 295
        },
        "id": "HpFiKcaSMicd",
        "outputId": "defc14cb-ce17-4ae1-ce34-64beafb77cc1"
      },
      "source": [
        "selected_year = df[df[\"release_year\"] == year] \n",
        "\n",
        "# Creating a list for Movies geners in the choosen year :\n",
        "geners_list = []\n",
        "\n",
        "for gener in selected_year['genres'] :  \n",
        "    if gener not in geners_list :\n",
        "        geners_list.append(gener)\n",
        "\n",
        "# Creating a list for the sum of popularity for each gener :\n",
        "popularity_list = []\n",
        "\n",
        "for gener in geners_list :\n",
        "    gener_name = selected_year[selected_year['genres']== gener]\n",
        "    popularity_sum = gener_name[\"popularity\"].sum()\n",
        "    popularity_list.append(popularity_sum)\n",
        "\n",
        "# Sorting geners descendingly according to popularity sum :\n",
        "\n",
        "sorted_popularity_list = sorted(popularity_list, reverse=True)\n",
        "sorted_geners_list = []\n",
        "\n",
        "for value in sorted_popularity_list :\n",
        "\n",
        "    popularity_value_index = popularity_list.index(value)\n",
        "    crosponding_gener = geners_list[popularity_value_index]\n",
        "    sorted_geners_list.append(crosponding_gener) \n",
        "\n",
        "# plotting the result:\n",
        "#plt.subplots(figsize=(8,10))\n",
        "plt.bar(sorted_geners_list[:5],sorted_popularity_list[:5])\n",
        "plt_show(\"Genres\",\"popularity\",\"Most popular geners in {}\".format(year))"
      ],
      "execution_count": null,
      "outputs": [
        {
          "output_type": "display_data",
          "data": {
            "image/png": "[encoded data removed]",
            "text/plain": [
              "<Figure size 432x288 with 1 Axes>"
            ]
          },
          "metadata": {
            "needs_background": "light"
          }
        }
      ]
    },
    {
      "cell_type": "markdown",
      "metadata": {
        "id": "UwePILRbD2EF"
      },
      "source": [
        "Now it's easy to see which genres are most popular from year to year"
      ]
    },
    {
      "cell_type": "markdown",
      "metadata": {
        "id": "rePSCYAUCXy-"
      },
      "source": [
        "##Research Question 2 (Are the high revenue related to the high popularity?)"
      ]
    },
    {
      "cell_type": "markdown",
      "metadata": {
        "id": "BGSE0megEDAI"
      },
      "source": [
        "lets see if there is any relation between the popularity and the revenue"
      ]
    },
    {
      "cell_type": "code",
      "metadata": {
        "colab": {
          "base_uri": "https://localhost:8080/"
        },
        "id": "fwd9DHogEQTf",
        "outputId": "b609beab-a170-4985-eb4c-f78dcb8f4213"
      },
      "source": [
        "plt.scatter(df[\"revenue\"],df[\"popularity\"])\n",
        "plt.title(\"Revenue Vs Popularity\")\n",
        "plt.xlabel(\"revenue\")\n",
        "plt.ylabel(\"popularity\")\n",
        "plt.show()"
      ],
      "execution_count": null,
      "outputs": [
        {
          "output_type": "display_data",
          "data": {
            "image/png": "[encoded data removed]",
            "text/plain": [
              "<Figure size 432x288 with 1 Axes>"
            ]
          },
          "metadata": {
            "needs_background": "light"
          }
        }
      ]
    },
    {
      "cell_type": "code",
      "metadata": {
        "colab": {
          "base_uri": "https://localhost:8080/"
        },
        "id": "4zJzM2U-eVRO",
        "outputId": "cf59657f-e722-429e-ae9c-5fecfbbf1734"
      },
      "source": [
        "# draw regplot\n",
        "sns.regplot(x = df[\"revenue\"],\n",
        "            y = df[\"popularity\"])\n",
        "# show the plot\n",
        "plt.title(\"Revenue Vs Popularity\")\n",
        "plt.xlabel(\"revenue\")\n",
        "plt.ylabel(\"popularity\")\n",
        "plt.show()"
      ],
      "execution_count": null,
      "outputs": [
        {
          "output_type": "display_data",
          "data": {
            "image/png": "[encoded data removed]",
            "text/plain": [
              "<Figure size 432x288 with 1 Axes>"
            ]
          },
          "metadata": {
            "needs_background": "light"
          }
        }
      ]
    },
    {
      "cell_type": "markdown",
      "metadata": {
        "id": "XqB8taFep2wJ"
      },
      "source": [
        "As we can see there is a positive relation between the popularity of the movie and its revenue"
      ]
    },
    {
      "cell_type": "markdown",
      "metadata": {
        "id": "YVpBUGsCqye4"
      },
      "source": [
        "But there are alot of zero revenues ( about 25% of the revenue )"
      ]
    },
    {
      "cell_type": "markdown",
      "metadata": {
        "id": "B979VvrkrMX2"
      },
      "source": [
        "So, I'll plot the revenues ( which are not equal zero ) to see if this affects the relation "
      ]
    },
    {
      "cell_type": "code",
      "metadata": {
        "colab": {
          "base_uri": "https://localhost:8080/"
        },
        "id": "C1IhhRiLDDai",
        "outputId": "ff24161c-00cc-4d36-ab14-3972eab9142c"
      },
      "source": [
        "df[\"revenue\"].count()"
      ],
      "execution_count": null,
      "outputs": [
        {
          "output_type": "execute_result",
          "data": {
            "text/plain": [
              "9772"
            ]
          },
          "metadata": {},
          "execution_count": 345
        }
      ]
    },
    {
      "cell_type": "code",
      "metadata": {
        "id": "kkI2ADFXDZGo"
      },
      "source": [
        "filtered_revenue = df[df[\"revenue\"]!= 0]"
      ],
      "execution_count": null,
      "outputs": []
    },
    {
      "cell_type": "code",
      "metadata": {
        "colab": {
          "base_uri": "https://localhost:8080/"
        },
        "id": "ETo2N_wBEXVO",
        "outputId": "e6a06572-01d6-4789-b223-ea50f18ae8c6"
      },
      "source": [
        "filtered_revenue[\"revenue\"].count()"
      ],
      "execution_count": null,
      "outputs": [
        {
          "output_type": "execute_result",
          "data": {
            "text/plain": [
              "4750"
            ]
          },
          "metadata": {},
          "execution_count": 347
        }
      ]
    },
    {
      "cell_type": "code",
      "metadata": {
        "colab": {
          "base_uri": "https://localhost:8080/"
        },
        "id": "XUGUBNdiDjPj",
        "outputId": "1ad0b27e-96be-4c01-b242-3374f1e11ec6"
      },
      "source": [
        "filtered_revenue.describe()"
      ],
      "execution_count": null,
      "outputs": [
        {
          "output_type": "execute_result",
          "data": {
            "text/html": [
              "<div>\n",
              "<style scoped>\n",
              "    .dataframe tbody tr th:only-of-type {\n",
              "        vertical-align: middle;\n",
              "    }\n",
              "\n",
              "    .dataframe tbody tr th {\n",
              "        vertical-align: top;\n",
              "    }\n",
              "\n",
              "    .dataframe thead th {\n",
              "        text-align: right;\n",
              "    }\n",
              "</style>\n",
              "<table border=\"1\" class=\"dataframe\">\n",
              "  <thead>\n",
              "    <tr style=\"text-align: right;\">\n",
              "      <th></th>\n",
              "      <th>popularity</th>\n",
              "      <th>budget</th>\n",
              "      <th>revenue</th>\n",
              "      <th>runtime</th>\n",
              "      <th>vote_count</th>\n",
              "      <th>vote_average</th>\n",
              "      <th>release_year</th>\n",
              "      <th>budget_adj</th>\n",
              "      <th>revenue_adj</th>\n",
              "    </tr>\n",
              "  </thead>\n",
              "  <tbody>\n",
              "    <tr>\n",
              "      <th>count</th>\n",
              "      <td>4750.000000</td>\n",
              "      <td>4.750000e+03</td>\n",
              "      <td>4.750000e+03</td>\n",
              "      <td>4750.000000</td>\n",
              "      <td>4750.000000</td>\n",
              "      <td>4750.000000</td>\n",
              "      <td>4750.000000</td>\n",
              "      <td>4.750000e+03</td>\n",
              "      <td>4.750000e+03</td>\n",
              "    </tr>\n",
              "    <tr>\n",
              "      <th>mean</th>\n",
              "      <td>1.061915</td>\n",
              "      <td>3.012598e+07</td>\n",
              "      <td>9.099524e+07</td>\n",
              "      <td>108.148842</td>\n",
              "      <td>444.832211</td>\n",
              "      <td>6.150779</td>\n",
              "      <td>2000.828211</td>\n",
              "      <td>3.582289e+07</td>\n",
              "      <td>1.173732e+08</td>\n",
              "    </tr>\n",
              "    <tr>\n",
              "      <th>std</th>\n",
              "      <td>1.365645</td>\n",
              "      <td>4.074516e+07</td>\n",
              "      <td>1.632905e+08</td>\n",
              "      <td>21.109376</td>\n",
              "      <td>812.642537</td>\n",
              "      <td>0.796427</td>\n",
              "      <td>11.627617</td>\n",
              "      <td>4.396234e+07</td>\n",
              "      <td>2.002779e+08</td>\n",
              "    </tr>\n",
              "    <tr>\n",
              "      <th>min</th>\n",
              "      <td>0.001783</td>\n",
              "      <td>0.000000e+00</td>\n",
              "      <td>2.000000e+00</td>\n",
              "      <td>15.000000</td>\n",
              "      <td>10.000000</td>\n",
              "      <td>2.100000</td>\n",
              "      <td>1960.000000</td>\n",
              "      <td>0.000000e+00</td>\n",
              "      <td>2.370705e+00</td>\n",
              "    </tr>\n",
              "    <tr>\n",
              "      <th>25%</th>\n",
              "      <td>0.401945</td>\n",
              "      <td>2.000000e+06</td>\n",
              "      <td>8.501551e+06</td>\n",
              "      <td>95.000000</td>\n",
              "      <td>50.000000</td>\n",
              "      <td>5.600000</td>\n",
              "      <td>1994.000000</td>\n",
              "      <td>2.921208e+06</td>\n",
              "      <td>1.163858e+07</td>\n",
              "    </tr>\n",
              "    <tr>\n",
              "      <th>50%</th>\n",
              "      <td>0.694424</td>\n",
              "      <td>1.563747e+07</td>\n",
              "      <td>3.331677e+07</td>\n",
              "      <td>105.000000</td>\n",
              "      <td>153.000000</td>\n",
              "      <td>6.200000</td>\n",
              "      <td>2004.000000</td>\n",
              "      <td>2.103337e+07</td>\n",
              "      <td>4.584735e+07</td>\n",
              "    </tr>\n",
              "    <tr>\n",
              "      <th>75%</th>\n",
              "      <td>1.226349</td>\n",
              "      <td>4.000000e+07</td>\n",
              "      <td>1.015876e+08</td>\n",
              "      <td>118.000000</td>\n",
              "      <td>446.000000</td>\n",
              "      <td>6.700000</td>\n",
              "      <td>2010.000000</td>\n",
              "      <td>5.040280e+07</td>\n",
              "      <td>1.349884e+08</td>\n",
              "    </tr>\n",
              "    <tr>\n",
              "      <th>max</th>\n",
              "      <td>32.985763</td>\n",
              "      <td>4.250000e+08</td>\n",
              "      <td>2.781506e+09</td>\n",
              "      <td>705.000000</td>\n",
              "      <td>9767.000000</td>\n",
              "      <td>8.400000</td>\n",
              "      <td>2015.000000</td>\n",
              "      <td>4.250000e+08</td>\n",
              "      <td>2.827124e+09</td>\n",
              "    </tr>\n",
              "  </tbody>\n",
              "</table>\n",
              "</div>"
            ],
            "text/plain": [
              "        popularity        budget  ...    budget_adj   revenue_adj\n",
              "count  4750.000000  4.750000e+03  ...  4.750000e+03  4.750000e+03\n",
              "mean      1.061915  3.012598e+07  ...  3.582289e+07  1.173732e+08\n",
              "std       1.365645  4.074516e+07  ...  4.396234e+07  2.002779e+08\n",
              "min       0.001783  0.000000e+00  ...  0.000000e+00  2.370705e+00\n",
              "25%       0.401945  2.000000e+06  ...  2.921208e+06  1.163858e+07\n",
              "50%       0.694424  1.563747e+07  ...  2.103337e+07  4.584735e+07\n",
              "75%       1.226349  4.000000e+07  ...  5.040280e+07  1.349884e+08\n",
              "max      32.985763  4.250000e+08  ...  4.250000e+08  2.827124e+09\n",
              "\n",
              "[8 rows x 9 columns]"
            ]
          },
          "metadata": {},
          "execution_count": 348
        }
      ]
    },
    {
      "cell_type": "code",
      "metadata": {
        "colab": {
          "base_uri": "https://localhost:8080/"
        },
        "id": "yjbF8YVo1MVm",
        "outputId": "5880e3e4-52b7-4cd5-9619-8cb970afe1a2"
      },
      "source": [
        "plt.scatter(filtered_revenue[\"revenue\"],filtered_revenue[\"popularity\"])\n",
        "plt.title(\"Revenue Vs Popularity\")\n",
        "plt.xlabel(\"revenue\")\n",
        "plt.ylabel(\"popularity\")\n",
        "plt.show()"
      ],
      "execution_count": null,
      "outputs": [
        {
          "output_type": "display_data",
          "data": {
            "image/png": "[encoded data removed]",
            "text/plain": [
              "<Figure size 432x288 with 1 Axes>"
            ]
          },
          "metadata": {
            "needs_background": "light"
          }
        }
      ]
    },
    {
      "cell_type": "code",
      "metadata": {
        "colab": {
          "base_uri": "https://localhost:8080/"
        },
        "id": "L1dTsGgAe93w",
        "outputId": "be1fc01f-084b-4d6a-cb40-02e8b2b8153b"
      },
      "source": [
        "# draw regplot\n",
        "sns.regplot(x = filtered_revenue[\"revenue\"],\n",
        "            y = filtered_revenue[\"popularity\"],\n",
        "            )\n",
        "# show the plot\n",
        "plt.show()"
      ],
      "execution_count": null,
      "outputs": [
        {
          "output_type": "display_data",
          "data": {
            "image/png": "[encoded data removed]",
            "text/plain": [
              "<Figure size 432x288 with 1 Axes>"
            ]
          },
          "metadata": {
            "needs_background": "light"
          }
        }
      ]
    },
    {
      "cell_type": "markdown",
      "metadata": {
        "id": "fw0kb-3jvy23"
      },
      "source": [
        "That didnt change any thing."
      ]
    },
    {
      "cell_type": "markdown",
      "metadata": {
        "id": "NBQL9kHOseWo"
      },
      "source": [
        "So, the final conclusion is :\n",
        "\n",
        "There is a positive correlation between revenue and popularity"
      ]
    },
    {
      "cell_type": "markdown",
      "metadata": {
        "id": "VDASw_aIgbuG"
      },
      "source": [
        "##Research Question 3 ( Which properties affects the movie vote average?)"
      ]
    },
    {
      "cell_type": "code",
      "metadata": {
        "colab": {
          "base_uri": "https://localhost:8080/",
          "height": 300
        },
        "id": "ds9NAyaQtLsR",
        "outputId": "9a8b6125-a83a-471f-d012-bd30a06aa112"
      },
      "source": [
        "df.describe()"
      ],
      "execution_count": null,
      "outputs": [
        {
          "output_type": "execute_result",
          "data": {
            "text/html": [
              "<div>\n",
              "<style scoped>\n",
              "    .dataframe tbody tr th:only-of-type {\n",
              "        vertical-align: middle;\n",
              "    }\n",
              "\n",
              "    .dataframe tbody tr th {\n",
              "        vertical-align: top;\n",
              "    }\n",
              "\n",
              "    .dataframe thead th {\n",
              "        text-align: right;\n",
              "    }\n",
              "</style>\n",
              "<table border=\"1\" class=\"dataframe\">\n",
              "  <thead>\n",
              "    <tr style=\"text-align: right;\">\n",
              "      <th></th>\n",
              "      <th>popularity</th>\n",
              "      <th>budget</th>\n",
              "      <th>revenue</th>\n",
              "      <th>runtime</th>\n",
              "      <th>vote_count</th>\n",
              "      <th>vote_average</th>\n",
              "      <th>release_year</th>\n",
              "      <th>budget_adj</th>\n",
              "      <th>revenue_adj</th>\n",
              "    </tr>\n",
              "  </thead>\n",
              "  <tbody>\n",
              "    <tr>\n",
              "      <th>count</th>\n",
              "      <td>9772.000000</td>\n",
              "      <td>9.772000e+03</td>\n",
              "      <td>9.772000e+03</td>\n",
              "      <td>9772.000000</td>\n",
              "      <td>9772.000000</td>\n",
              "      <td>9772.000000</td>\n",
              "      <td>9772.000000</td>\n",
              "      <td>9.772000e+03</td>\n",
              "      <td>9.772000e+03</td>\n",
              "    </tr>\n",
              "    <tr>\n",
              "      <th>mean</th>\n",
              "      <td>0.694721</td>\n",
              "      <td>1.617967e+07</td>\n",
              "      <td>4.423121e+07</td>\n",
              "      <td>102.926627</td>\n",
              "      <td>239.312014</td>\n",
              "      <td>5.963528</td>\n",
              "      <td>2000.878428</td>\n",
              "      <td>1.941599e+07</td>\n",
              "      <td>5.705309e+07</td>\n",
              "    </tr>\n",
              "    <tr>\n",
              "      <th>std</th>\n",
              "      <td>1.036931</td>\n",
              "      <td>3.221074e+07</td>\n",
              "      <td>1.225889e+08</td>\n",
              "      <td>27.877432</td>\n",
              "      <td>603.011504</td>\n",
              "      <td>0.913174</td>\n",
              "      <td>13.036794</td>\n",
              "      <td>3.566634e+07</td>\n",
              "      <td>1.514499e+08</td>\n",
              "    </tr>\n",
              "    <tr>\n",
              "      <th>min</th>\n",
              "      <td>0.000188</td>\n",
              "      <td>0.000000e+00</td>\n",
              "      <td>0.000000e+00</td>\n",
              "      <td>0.000000</td>\n",
              "      <td>10.000000</td>\n",
              "      <td>1.500000</td>\n",
              "      <td>1960.000000</td>\n",
              "      <td>0.000000e+00</td>\n",
              "      <td>0.000000e+00</td>\n",
              "    </tr>\n",
              "    <tr>\n",
              "      <th>25%</th>\n",
              "      <td>0.232710</td>\n",
              "      <td>0.000000e+00</td>\n",
              "      <td>0.000000e+00</td>\n",
              "      <td>90.000000</td>\n",
              "      <td>18.000000</td>\n",
              "      <td>5.400000</td>\n",
              "      <td>1994.000000</td>\n",
              "      <td>0.000000e+00</td>\n",
              "      <td>0.000000e+00</td>\n",
              "    </tr>\n",
              "    <tr>\n",
              "      <th>50%</th>\n",
              "      <td>0.419762</td>\n",
              "      <td>2.000000e+05</td>\n",
              "      <td>0.000000e+00</td>\n",
              "      <td>100.000000</td>\n",
              "      <td>46.000000</td>\n",
              "      <td>6.000000</td>\n",
              "      <td>2005.000000</td>\n",
              "      <td>3.061342e+05</td>\n",
              "      <td>0.000000e+00</td>\n",
              "    </tr>\n",
              "    <tr>\n",
              "      <th>75%</th>\n",
              "      <td>0.776408</td>\n",
              "      <td>1.928750e+07</td>\n",
              "      <td>3.104729e+07</td>\n",
              "      <td>112.000000</td>\n",
              "      <td>173.000000</td>\n",
              "      <td>6.600000</td>\n",
              "      <td>2011.000000</td>\n",
              "      <td>2.464268e+07</td>\n",
              "      <td>4.311848e+07</td>\n",
              "    </tr>\n",
              "    <tr>\n",
              "      <th>max</th>\n",
              "      <td>32.985763</td>\n",
              "      <td>4.250000e+08</td>\n",
              "      <td>2.781506e+09</td>\n",
              "      <td>877.000000</td>\n",
              "      <td>9767.000000</td>\n",
              "      <td>8.700000</td>\n",
              "      <td>2015.000000</td>\n",
              "      <td>4.250000e+08</td>\n",
              "      <td>2.827124e+09</td>\n",
              "    </tr>\n",
              "  </tbody>\n",
              "</table>\n",
              "</div>"
            ],
            "text/plain": [
              "        popularity        budget  ...    budget_adj   revenue_adj\n",
              "count  9772.000000  9.772000e+03  ...  9.772000e+03  9.772000e+03\n",
              "mean      0.694721  1.617967e+07  ...  1.941599e+07  5.705309e+07\n",
              "std       1.036931  3.221074e+07  ...  3.566634e+07  1.514499e+08\n",
              "min       0.000188  0.000000e+00  ...  0.000000e+00  0.000000e+00\n",
              "25%       0.232710  0.000000e+00  ...  0.000000e+00  0.000000e+00\n",
              "50%       0.419762  2.000000e+05  ...  3.061342e+05  0.000000e+00\n",
              "75%       0.776408  1.928750e+07  ...  2.464268e+07  4.311848e+07\n",
              "max      32.985763  4.250000e+08  ...  4.250000e+08  2.827124e+09\n",
              "\n",
              "[8 rows x 9 columns]"
            ]
          },
          "metadata": {},
          "execution_count": 351
        }
      ]
    },
    {
      "cell_type": "markdown",
      "metadata": {
        "id": "GqyGZqdPtPI_"
      },
      "source": [
        "From this slight statistics I think that: \n",
        "\n",
        "* popularity have positive effect on ( positive correlation or proportional with ) the vote average\n",
        "\n",
        "* Budgit have positive effect on ( positive correlation or proportional with ) the vote average\n"
      ]
    },
    {
      "cell_type": "markdown",
      "metadata": {
        "id": "QMQoa1bju00t"
      },
      "source": [
        "So, lets see:"
      ]
    },
    {
      "cell_type": "markdown",
      "metadata": {
        "id": "vInE-L_Bu4Dg"
      },
      "source": [
        "### 1. Popularity and vote average"
      ]
    },
    {
      "cell_type": "code",
      "metadata": {
        "colab": {
          "base_uri": "https://localhost:8080/",
          "height": 296
        },
        "id": "5hDkITQPtNyn",
        "outputId": "4208dec3-ac81-4e5d-ce3d-068a3cb6bf38"
      },
      "source": [
        "plt.scatter(df[\"vote_average\"],df[\"popularity\"])\n",
        "\"\"\"\n",
        "plt.title(\"vote average Vs Popularity\")\n",
        "plt.xlabel(\"vote_average\")\n",
        "plt.ylabel(\"popularity\")\n",
        "plt.show()\"\"\"\n",
        "plt_show(\"vote_average\",\"popularity\",\"vote average Vs Popularity\")"
      ],
      "execution_count": null,
      "outputs": [
        {
          "output_type": "display_data",
          "data": {
            "image/png": "[encoded data removed]",
            "text/plain": [
              "<Figure size 432x288 with 1 Axes>"
            ]
          },
          "metadata": {
            "needs_background": "light"
          }
        }
      ]
    },
    {
      "cell_type": "code",
      "metadata": {
        "colab": {
          "base_uri": "https://localhost:8080/",
          "height": 296
        },
        "id": "eLuWiy-mfRep",
        "outputId": "9c170d0e-7c45-49a9-f808-658a72742f93"
      },
      "source": [
        "# draw regplot\n",
        "sns.regplot(x =df[\"vote_average\"],\n",
        "            y = df[\"popularity\"]\n",
        "            )\n",
        "# show the plot\n",
        "plt_show(\"vote_average\",\"popularity\",\"vote average Vs Popularity\",grid=False)"
      ],
      "execution_count": null,
      "outputs": [
        {
          "output_type": "display_data",
          "data": {
            "image/png": "[encoded data removed]",
            "text/plain": [
              "<Figure size 432x288 with 1 Axes>"
            ]
          },
          "metadata": {
            "needs_background": "light"
          }
        }
      ]
    },
    {
      "cell_type": "markdown",
      "metadata": {
        "id": "pdOOMeUVxOTu"
      },
      "source": [
        "There is a very weak relation between the popularity and the vote average"
      ]
    },
    {
      "cell_type": "markdown",
      "metadata": {
        "id": "ET3CwtcdhHKj"
      },
      "source": [
        "But there are some outlayrs in popularity, lets remove them then plot the relation again"
      ]
    },
    {
      "cell_type": "code",
      "metadata": {
        "id": "dCcDJOtehaMA"
      },
      "source": [
        "df_without_outlayrs = df[df[\"popularity\"]<= 20]"
      ],
      "execution_count": null,
      "outputs": []
    },
    {
      "cell_type": "code",
      "metadata": {
        "colab": {
          "base_uri": "https://localhost:8080/"
        },
        "id": "sYO_7QfWho6n",
        "outputId": "7a764f2a-60f9-4ff1-8499-39c65ecf1ecc"
      },
      "source": [
        "df_without_outlayrs.info()"
      ],
      "execution_count": null,
      "outputs": [
        {
          "output_type": "stream",
          "name": "stdout",
          "text": [
            "<class 'pandas.core.frame.DataFrame'>\n",
            "Int64Index: 9769 entries, 2 to 10865\n",
            "Data columns (total 15 columns):\n",
            " #   Column                Non-Null Count  Dtype         \n",
            "---  ------                --------------  -----         \n",
            " 0   popularity            9769 non-null   float64       \n",
            " 1   budget                9769 non-null   int64         \n",
            " 2   revenue               9769 non-null   int64         \n",
            " 3   original_title        9769 non-null   object        \n",
            " 4   cast                  9769 non-null   object        \n",
            " 5   director              9769 non-null   object        \n",
            " 6   runtime               9769 non-null   int64         \n",
            " 7   genres                9769 non-null   object        \n",
            " 8   production_companies  9769 non-null   object        \n",
            " 9   release_date          9769 non-null   datetime64[ns]\n",
            " 10  vote_count            9769 non-null   int64         \n",
            " 11  vote_average          9769 non-null   float64       \n",
            " 12  release_year          9769 non-null   int64         \n",
            " 13  budget_adj            9769 non-null   float64       \n",
            " 14  revenue_adj           9769 non-null   float64       \n",
            "dtypes: datetime64[ns](1), float64(4), int64(5), object(5)\n",
            "memory usage: 1.2+ MB\n"
          ]
        }
      ]
    },
    {
      "cell_type": "code",
      "metadata": {
        "colab": {
          "base_uri": "https://localhost:8080/",
          "height": 296
        },
        "id": "gZycj0uphtvv",
        "outputId": "ccc324ce-96f4-46ac-c471-bff36144ca55"
      },
      "source": [
        "# draw regplot\n",
        "sns.regplot(x =df_without_outlayrs[\"vote_average\"],\n",
        "            y = df_without_outlayrs[\"popularity\"]\n",
        "            )\n",
        "# show the plot\n",
        "plt_show(\"vote_average\",\"popularity\",\"vote average Vs Popularity\",grid=False)"
      ],
      "execution_count": null,
      "outputs": [
        {
          "output_type": "display_data",
          "data": {
            "image/png": "[encoded data removed]",
            "text/plain": [
              "<Figure size 432x288 with 1 Axes>"
            ]
          },
          "metadata": {
            "needs_background": "light"
          }
        }
      ]
    },
    {
      "cell_type": "markdown",
      "metadata": {
        "id": "diPLZVKxh1v1"
      },
      "source": [
        "Final conclusion: \n",
        "There's no strong relation between the popularity and tha vote average ( There is a very weak relation )"
      ]
    },
    {
      "cell_type": "markdown",
      "metadata": {
        "id": "xLlNBWlXxZ7H"
      },
      "source": [
        "### 2. Budget and vote average"
      ]
    },
    {
      "cell_type": "code",
      "metadata": {
        "colab": {
          "base_uri": "https://localhost:8080/",
          "height": 296
        },
        "id": "J3rw-ZXVxhT7",
        "outputId": "a759d256-563f-492d-9fb9-30a3c8c120fe"
      },
      "source": [
        "plt.scatter(df[\"vote_average\"],df[\"budget\"])\n",
        "plt_show(\"vote_average\",\"budget\",\"vote average Vs Budget\",grid=False)"
      ],
      "execution_count": null,
      "outputs": [
        {
          "output_type": "display_data",
          "data": {
            "image/png": "[encoded data removed]",
            "text/plain": [
              "<Figure size 432x288 with 1 Axes>"
            ]
          },
          "metadata": {
            "needs_background": "light"
          }
        }
      ]
    },
    {
      "cell_type": "code",
      "metadata": {
        "colab": {
          "base_uri": "https://localhost:8080/",
          "height": 296
        },
        "id": "rO28412Efz7M",
        "outputId": "e4e669e6-be4e-4733-c9ca-f60c8e17900e"
      },
      "source": [
        "# draw regplot\n",
        "sns.regplot(x =df[\"vote_average\"],\n",
        "            y = df[\"budget\"]\n",
        "            )\n",
        "# show the plot\n",
        "plt_show(\"vote_average\",\"budget\",\"vote average Vs Budget\",grid=False)"
      ],
      "execution_count": null,
      "outputs": [
        {
          "output_type": "display_data",
          "data": {
            "image/png": "[encoded data removed]",
            "text/plain": [
              "<Figure size 432x288 with 1 Axes>"
            ]
          },
          "metadata": {
            "needs_background": "light"
          }
        }
      ]
    },
    {
      "cell_type": "markdown",
      "metadata": {
        "id": "5K1UW-j_yCh8"
      },
      "source": [
        "There is a very weak relation between the budjet and the vote average"
      ]
    },
    {
      "cell_type": "markdown",
      "metadata": {
        "id": "xBXXARoMyCh9"
      },
      "source": [
        "But may be this is due to the zero budgets ( about 50% of the budget )"
      ]
    },
    {
      "cell_type": "markdown",
      "metadata": {
        "id": "KvE375RTyCh-"
      },
      "source": [
        "So, I'll plot the budget ( which are not equal zero ) to see if there is a relation between the budget and the vote average"
      ]
    },
    {
      "cell_type": "code",
      "metadata": {
        "colab": {
          "base_uri": "https://localhost:8080/"
        },
        "id": "f-tKuelGyCh_",
        "outputId": "96566c94-406a-4b3a-ea6b-0260baa70a4f"
      },
      "source": [
        "df[\"budget\"].count()"
      ],
      "execution_count": null,
      "outputs": [
        {
          "output_type": "execute_result",
          "data": {
            "text/plain": [
              "9772"
            ]
          },
          "metadata": {},
          "execution_count": 359
        }
      ]
    },
    {
      "cell_type": "code",
      "metadata": {
        "id": "wZflFSdyyCiA"
      },
      "source": [
        "filtered_budget = df[df[\"budget\"]!= 0]"
      ],
      "execution_count": null,
      "outputs": []
    },
    {
      "cell_type": "code",
      "metadata": {
        "colab": {
          "base_uri": "https://localhost:8080/"
        },
        "id": "N0bGzOTiyCiA",
        "outputId": "b0d611b1-ee6d-40f4-e3b7-2fb850e5f651"
      },
      "source": [
        "filtered_budget[\"budget\"].count()"
      ],
      "execution_count": null,
      "outputs": [
        {
          "output_type": "execute_result",
          "data": {
            "text/plain": [
              "5021"
            ]
          },
          "metadata": {},
          "execution_count": 361
        }
      ]
    },
    {
      "cell_type": "code",
      "metadata": {
        "colab": {
          "base_uri": "https://localhost:8080/",
          "height": 300
        },
        "id": "CZcWyzbgyCiC",
        "outputId": "a7777304-366f-4e02-a210-cfd5774c311f"
      },
      "source": [
        "filtered_budget.describe()"
      ],
      "execution_count": null,
      "outputs": [
        {
          "output_type": "execute_result",
          "data": {
            "text/html": [
              "<div>\n",
              "<style scoped>\n",
              "    .dataframe tbody tr th:only-of-type {\n",
              "        vertical-align: middle;\n",
              "    }\n",
              "\n",
              "    .dataframe tbody tr th {\n",
              "        vertical-align: top;\n",
              "    }\n",
              "\n",
              "    .dataframe thead th {\n",
              "        text-align: right;\n",
              "    }\n",
              "</style>\n",
              "<table border=\"1\" class=\"dataframe\">\n",
              "  <thead>\n",
              "    <tr style=\"text-align: right;\">\n",
              "      <th></th>\n",
              "      <th>popularity</th>\n",
              "      <th>budget</th>\n",
              "      <th>revenue</th>\n",
              "      <th>runtime</th>\n",
              "      <th>vote_count</th>\n",
              "      <th>vote_average</th>\n",
              "      <th>release_year</th>\n",
              "      <th>budget_adj</th>\n",
              "      <th>revenue_adj</th>\n",
              "    </tr>\n",
              "  </thead>\n",
              "  <tbody>\n",
              "    <tr>\n",
              "      <th>count</th>\n",
              "      <td>5021.000000</td>\n",
              "      <td>5.021000e+03</td>\n",
              "      <td>5.021000e+03</td>\n",
              "      <td>5021.000000</td>\n",
              "      <td>5021.000000</td>\n",
              "      <td>5021.000000</td>\n",
              "      <td>5021.000000</td>\n",
              "      <td>5.021000e+03</td>\n",
              "      <td>5.021000e+03</td>\n",
              "    </tr>\n",
              "    <tr>\n",
              "      <th>mean</th>\n",
              "      <td>1.014609</td>\n",
              "      <td>3.148929e+07</td>\n",
              "      <td>8.258191e+07</td>\n",
              "      <td>107.523203</td>\n",
              "      <td>419.964151</td>\n",
              "      <td>6.043696</td>\n",
              "      <td>2001.135033</td>\n",
              "      <td>3.778790e+07</td>\n",
              "      <td>1.051213e+08</td>\n",
              "    </tr>\n",
              "    <tr>\n",
              "      <th>std</th>\n",
              "      <td>1.342024</td>\n",
              "      <td>3.920818e+07</td>\n",
              "      <td>1.612449e+08</td>\n",
              "      <td>22.387081</td>\n",
              "      <td>797.038148</td>\n",
              "      <td>0.867978</td>\n",
              "      <td>11.845927</td>\n",
              "      <td>4.220942e+07</td>\n",
              "      <td>1.980250e+08</td>\n",
              "    </tr>\n",
              "    <tr>\n",
              "      <th>min</th>\n",
              "      <td>0.002514</td>\n",
              "      <td>1.000000e+00</td>\n",
              "      <td>0.000000e+00</td>\n",
              "      <td>0.000000</td>\n",
              "      <td>10.000000</td>\n",
              "      <td>1.500000</td>\n",
              "      <td>1960.000000</td>\n",
              "      <td>9.210911e-01</td>\n",
              "      <td>0.000000e+00</td>\n",
              "    </tr>\n",
              "    <tr>\n",
              "      <th>25%</th>\n",
              "      <td>0.362240</td>\n",
              "      <td>6.300000e+06</td>\n",
              "      <td>7.306000e+03</td>\n",
              "      <td>94.000000</td>\n",
              "      <td>39.000000</td>\n",
              "      <td>5.500000</td>\n",
              "      <td>1995.000000</td>\n",
              "      <td>8.890145e+06</td>\n",
              "      <td>7.729969e+03</td>\n",
              "    </tr>\n",
              "    <tr>\n",
              "      <th>50%</th>\n",
              "      <td>0.642207</td>\n",
              "      <td>1.800000e+07</td>\n",
              "      <td>2.305712e+07</td>\n",
              "      <td>103.000000</td>\n",
              "      <td>131.000000</td>\n",
              "      <td>6.100000</td>\n",
              "      <td>2004.000000</td>\n",
              "      <td>2.374361e+07</td>\n",
              "      <td>3.136790e+07</td>\n",
              "    </tr>\n",
              "    <tr>\n",
              "      <th>75%</th>\n",
              "      <td>1.178831</td>\n",
              "      <td>4.000000e+07</td>\n",
              "      <td>9.299184e+07</td>\n",
              "      <td>117.000000</td>\n",
              "      <td>418.000000</td>\n",
              "      <td>6.600000</td>\n",
              "      <td>2010.000000</td>\n",
              "      <td>5.082002e+07</td>\n",
              "      <td>1.173373e+08</td>\n",
              "    </tr>\n",
              "    <tr>\n",
              "      <th>max</th>\n",
              "      <td>32.985763</td>\n",
              "      <td>4.250000e+08</td>\n",
              "      <td>2.781506e+09</td>\n",
              "      <td>540.000000</td>\n",
              "      <td>9767.000000</td>\n",
              "      <td>8.400000</td>\n",
              "      <td>2015.000000</td>\n",
              "      <td>4.250000e+08</td>\n",
              "      <td>2.827124e+09</td>\n",
              "    </tr>\n",
              "  </tbody>\n",
              "</table>\n",
              "</div>"
            ],
            "text/plain": [
              "        popularity        budget  ...    budget_adj   revenue_adj\n",
              "count  5021.000000  5.021000e+03  ...  5.021000e+03  5.021000e+03\n",
              "mean      1.014609  3.148929e+07  ...  3.778790e+07  1.051213e+08\n",
              "std       1.342024  3.920818e+07  ...  4.220942e+07  1.980250e+08\n",
              "min       0.002514  1.000000e+00  ...  9.210911e-01  0.000000e+00\n",
              "25%       0.362240  6.300000e+06  ...  8.890145e+06  7.729969e+03\n",
              "50%       0.642207  1.800000e+07  ...  2.374361e+07  3.136790e+07\n",
              "75%       1.178831  4.000000e+07  ...  5.082002e+07  1.173373e+08\n",
              "max      32.985763  4.250000e+08  ...  4.250000e+08  2.827124e+09\n",
              "\n",
              "[8 rows x 9 columns]"
            ]
          },
          "metadata": {},
          "execution_count": 362
        }
      ]
    },
    {
      "cell_type": "markdown",
      "metadata": {
        "id": "79ehZ3WBzwA_"
      },
      "source": [
        "There is no zero budget now"
      ]
    },
    {
      "cell_type": "markdown",
      "metadata": {
        "id": "gYJuIXUjz2bD"
      },
      "source": [
        "So, lets see if there is any relation between budget and vote average"
      ]
    },
    {
      "cell_type": "code",
      "metadata": {
        "colab": {
          "base_uri": "https://localhost:8080/",
          "height": 296
        },
        "id": "78VdgTg4yCiC",
        "outputId": "631f3b04-a6b3-4003-9b60-a26fcc87399e"
      },
      "source": [
        "plt.scatter(filtered_budget[\"vote_average\"],filtered_budget[\"budget\"])\n",
        "plt_show(\"vote_average\",\"budget\",\"vote average Vs Budget\",grid=False)"
      ],
      "execution_count": null,
      "outputs": [
        {
          "output_type": "display_data",
          "data": {
            "image/png": "[encoded data removed]",
            "text/plain": [
              "<Figure size 432x288 with 1 Axes>"
            ]
          },
          "metadata": {
            "needs_background": "light"
          }
        }
      ]
    },
    {
      "cell_type": "code",
      "metadata": {
        "colab": {
          "base_uri": "https://localhost:8080/",
          "height": 296
        },
        "id": "-2LSMna_f8Xq",
        "outputId": "0c508a14-9553-4d83-f166-56b56bc673da"
      },
      "source": [
        "# draw regplot\n",
        "sns.regplot(x =filtered_budget[\"vote_average\"],\n",
        "            y = filtered_budget[\"budget\"]\n",
        "            )\n",
        "# show the plot\n",
        "plt_show(\"vote_average\",\"budget\",\"vote average Vs Budget\",grid=False)"
      ],
      "execution_count": null,
      "outputs": [
        {
          "output_type": "display_data",
          "data": {
            "image/png": "[encoded data removed]",
            "text/plain": [
              "<Figure size 432x288 with 1 Axes>"
            ]
          },
          "metadata": {
            "needs_background": "light"
          }
        }
      ]
    },
    {
      "cell_type": "markdown",
      "metadata": {
        "id": "WT1jUHSizCxC"
      },
      "source": [
        "There is a very weak relation between the budjet and the vote average"
      ]
    },
    {
      "cell_type": "markdown",
      "metadata": {
        "id": "KGFu3Ku1sqOj"
      },
      "source": [
        "##Research Question 4 (Which stars have the highest vote average movies?)"
      ]
    },
    {
      "cell_type": "markdown",
      "metadata": {
        "id": "Q1tq2snj1Y35"
      },
      "source": [
        "We have to clean the cast column (return to the cleaning step again)"
      ]
    },
    {
      "cell_type": "markdown",
      "metadata": {
        "id": "xUOzTSkN1pPS"
      },
      "source": [
        "Usually the star name is the first mentiond name in the cast\n",
        "\n",
        "So, I'll strip the first name in each Moveie cast and create a new column called \"movie_star\" "
      ]
    },
    {
      "cell_type": "code",
      "metadata": {
        "colab": {
          "base_uri": "https://localhost:8080/"
        },
        "id": "HAQNOiGd1Y37",
        "outputId": "b85472de-5448-4776-f7ac-b32c6418a553"
      },
      "source": [
        "df['cast'].count()"
      ],
      "execution_count": null,
      "outputs": [
        {
          "output_type": "execute_result",
          "data": {
            "text/plain": [
              "9772"
            ]
          },
          "metadata": {},
          "execution_count": 365
        }
      ]
    },
    {
      "cell_type": "code",
      "metadata": {
        "id": "i9jwQo-G1Y37"
      },
      "source": [
        "df['movie_star'] = df['cast'].apply(lambda x: x.split(\"|\")[0])"
      ],
      "execution_count": null,
      "outputs": []
    },
    {
      "cell_type": "code",
      "metadata": {
        "colab": {
          "base_uri": "https://localhost:8080/",
          "height": 271
        },
        "id": "1BVQr2lV3KSR",
        "outputId": "9d6669f0-c23f-4c28-dede-6ca439aea367"
      },
      "source": [
        "df.head(2)"
      ],
      "execution_count": null,
      "outputs": [
        {
          "output_type": "execute_result",
          "data": {
            "text/html": [
              "<div>\n",
              "<style scoped>\n",
              "    .dataframe tbody tr th:only-of-type {\n",
              "        vertical-align: middle;\n",
              "    }\n",
              "\n",
              "    .dataframe tbody tr th {\n",
              "        vertical-align: top;\n",
              "    }\n",
              "\n",
              "    .dataframe thead th {\n",
              "        text-align: right;\n",
              "    }\n",
              "</style>\n",
              "<table border=\"1\" class=\"dataframe\">\n",
              "  <thead>\n",
              "    <tr style=\"text-align: right;\">\n",
              "      <th></th>\n",
              "      <th>popularity</th>\n",
              "      <th>budget</th>\n",
              "      <th>revenue</th>\n",
              "      <th>original_title</th>\n",
              "      <th>cast</th>\n",
              "      <th>director</th>\n",
              "      <th>runtime</th>\n",
              "      <th>genres</th>\n",
              "      <th>production_companies</th>\n",
              "      <th>release_date</th>\n",
              "      <th>vote_count</th>\n",
              "      <th>vote_average</th>\n",
              "      <th>release_year</th>\n",
              "      <th>budget_adj</th>\n",
              "      <th>revenue_adj</th>\n",
              "      <th>movie_star</th>\n",
              "    </tr>\n",
              "  </thead>\n",
              "  <tbody>\n",
              "    <tr>\n",
              "      <th>0</th>\n",
              "      <td>32.985763</td>\n",
              "      <td>150000000</td>\n",
              "      <td>1513528810</td>\n",
              "      <td>Jurassic World</td>\n",
              "      <td>Chris Pratt|Bryce Dallas Howard|Irrfan Khan|Vi...</td>\n",
              "      <td>Colin Trevorrow</td>\n",
              "      <td>124</td>\n",
              "      <td>Action</td>\n",
              "      <td>Universal Studios|Amblin Entertainment|Legenda...</td>\n",
              "      <td>2015-06-09</td>\n",
              "      <td>5562</td>\n",
              "      <td>6.5</td>\n",
              "      <td>2015</td>\n",
              "      <td>1.379999e+08</td>\n",
              "      <td>1.392446e+09</td>\n",
              "      <td>Chris Pratt</td>\n",
              "    </tr>\n",
              "    <tr>\n",
              "      <th>1</th>\n",
              "      <td>28.419936</td>\n",
              "      <td>150000000</td>\n",
              "      <td>378436354</td>\n",
              "      <td>Mad Max: Fury Road</td>\n",
              "      <td>Tom Hardy|Charlize Theron|Hugh Keays-Byrne|Nic...</td>\n",
              "      <td>George Miller</td>\n",
              "      <td>120</td>\n",
              "      <td>Action</td>\n",
              "      <td>Village Roadshow Pictures|Kennedy Miller Produ...</td>\n",
              "      <td>2015-05-13</td>\n",
              "      <td>6185</td>\n",
              "      <td>7.1</td>\n",
              "      <td>2015</td>\n",
              "      <td>1.379999e+08</td>\n",
              "      <td>3.481613e+08</td>\n",
              "      <td>Tom Hardy</td>\n",
              "    </tr>\n",
              "  </tbody>\n",
              "</table>\n",
              "</div>"
            ],
            "text/plain": [
              "   popularity     budget     revenue  ...    budget_adj   revenue_adj   movie_star\n",
              "0   32.985763  150000000  1513528810  ...  1.379999e+08  1.392446e+09  Chris Pratt\n",
              "1   28.419936  150000000   378436354  ...  1.379999e+08  3.481613e+08    Tom Hardy\n",
              "\n",
              "[2 rows x 16 columns]"
            ]
          },
          "metadata": {},
          "execution_count": 367
        }
      ]
    },
    {
      "cell_type": "code",
      "metadata": {
        "colab": {
          "base_uri": "https://localhost:8080/"
        },
        "id": "SBBFV83A1Y39",
        "outputId": "61402688-64b0-4c91-a702-424edfe83323"
      },
      "source": [
        "df['movie_star'].count()"
      ],
      "execution_count": null,
      "outputs": [
        {
          "output_type": "execute_result",
          "data": {
            "text/plain": [
              "9772"
            ]
          },
          "metadata": {},
          "execution_count": 368
        }
      ]
    },
    {
      "cell_type": "code",
      "metadata": {
        "colab": {
          "base_uri": "https://localhost:8080/"
        },
        "id": "I6sgejIn1Y3-",
        "outputId": "345b819a-399e-4041-b0b6-980ce44b2707"
      },
      "source": [
        "df['movie_star'].value_counts()"
      ],
      "execution_count": null,
      "outputs": [
        {
          "output_type": "execute_result",
          "data": {
            "text/plain": [
              "Nicolas Cage           50\n",
              "Robert De Niro         42\n",
              "Bruce Willis           39\n",
              "Clint Eastwood         38\n",
              "Johnny Depp            37\n",
              "                       ..\n",
              "Mikhail Baryshnikov     1\n",
              "Barbara Cupisti         1\n",
              "Caio Blat               1\n",
              "Harley Sylvester        1\n",
              "Ambyr Childers          1\n",
              "Name: movie_star, Length: 3798, dtype: int64"
            ]
          },
          "metadata": {},
          "execution_count": 369
        }
      ]
    },
    {
      "cell_type": "markdown",
      "metadata": {
        "id": "L3ESgZIi1Y4B"
      },
      "source": [
        "Now lets see who are the most voted stars"
      ]
    },
    {
      "cell_type": "code",
      "metadata": {
        "colab": {
          "base_uri": "https://localhost:8080/",
          "height": 295
        },
        "id": "OtOn2u2G35-G",
        "outputId": "40abb46a-2d5a-440c-c102-def3695b515c"
      },
      "source": [
        "# Creating a list for the Movies stars :\n",
        "\n",
        "star_list = []\n",
        "\n",
        "for star in df['movie_star'] :  \n",
        "    if star not in star_list :\n",
        "        star_list.append(star)\n",
        "\n",
        "# Creating a list for the sum of vote_average for each star :\n",
        "vote_average_sum_list = []\n",
        "\n",
        "for star in star_list :\n",
        "    filtered_by_star = df[df[\"movie_star\"]== star]\n",
        "    vote_average_sum = filtered_by_star[\"vote_average\"].sum()\n",
        "    vote_average_sum_list.append(vote_average_sum)\n",
        "\n",
        "# Get the number of votes for each star :\n",
        "num_of_votes_list = []\n",
        "\n",
        "for star in star_list :\n",
        "    num_of_votes = df[df[\"movie_star\"] == star].shape[0]\n",
        "    num_of_votes_list.append(num_of_votes)\n",
        "\n",
        "# Sorting stars descendingly according to average of votes :\n",
        "\n",
        "sorted_average_of_votes_list = sorted(vote_average_sum_list, reverse=True)\n",
        "\n",
        "sorted_stars_list = []\n",
        "\n",
        "for value in sorted_average_of_votes_list :\n",
        "\n",
        "    original_average_vote_index = vote_average_sum_list.index(value)\n",
        "  \n",
        "    star = star_list[original_average_vote_index]\n",
        "    sorted_stars_list.append(star) \n",
        "  \n",
        "# plotting the result:\n",
        "\n",
        "plt.bar(sorted_stars_list[:5],sorted_average_of_votes_list[:5],width=0.3)\n",
        "plt_show(\"Star Name\",\"Total Movies votes\",\"Most Voted stars\")\n",
        "\n"
      ],
      "execution_count": null,
      "outputs": [
        {
          "output_type": "display_data",
          "data": {
            "image/png": "[encoded data removed]",
            "text/plain": [
              "<Figure size 432x288 with 1 Axes>"
            ]
          },
          "metadata": {
            "needs_background": "light"
          }
        }
      ]
    },
    {
      "cell_type": "markdown",
      "metadata": {
        "id": "L1VnKkPGUWA6"
      },
      "source": [
        "This statistic shows the stars who have the most voted movies , but there are alot of stars who have little number of movies which affect their rate"
      ]
    },
    {
      "cell_type": "markdown",
      "metadata": {
        "id": "XUrtCmRaU9bt"
      },
      "source": [
        "So we have to get the average votes for the movies for each star"
      ]
    },
    {
      "cell_type": "code",
      "metadata": {
        "colab": {
          "base_uri": "https://localhost:8080/",
          "height": 295
        },
        "id": "IaaJhVNv5DgE",
        "outputId": "d1a85645-8e9e-4da8-cc23-ffd7a5c2ff7c"
      },
      "source": [
        "# Get the average votes for each star :\n",
        "\n",
        "average_of_votes_list = []\n",
        "\n",
        "for i in range(len(star_list)) :\n",
        "\n",
        "    average_of_votes = vote_average_sum_list[i] / num_of_votes_list[i]\n",
        "    average_of_votes_list.append(average_of_votes)\n",
        "\n",
        "# Sorting stars descendingly according to average of votes :\n",
        "\n",
        "sorted_average_of_votes_list = sorted(average_of_votes_list, reverse=True)\n",
        "\n",
        "sorted_stars_list = []\n",
        "\n",
        "\n",
        "copy_of_average_of_votes_list =  average_of_votes_list.copy()\n",
        "\n",
        "for value in sorted_average_of_votes_list :\n",
        "    find_index = copy_of_average_of_votes_list.index(value)\n",
        "  \n",
        "    star = star_list[find_index]\n",
        "    copy_of_average_of_votes_list[find_index] = \"used\" # I added this line due to the presence of many stars\n",
        "                                                       # who have the same votes\n",
        "    sorted_stars_list.append(star)\n",
        "\n",
        " \n",
        "# plotting the result:\n",
        "\n",
        "plt.bar(sorted_stars_list[:5],sorted_average_of_votes_list[:5],width=0.2)\n",
        "plt_show(\"Star Name\",\"Average of Movies votes\",\"Most Voted stars\")\n"
      ],
      "execution_count": null,
      "outputs": [
        {
          "output_type": "display_data",
          "data": {
            "image/png": "[encoded data removed]",
            "text/plain": [
              "<Figure size 432x288 with 1 Axes>"
            ]
          },
          "metadata": {
            "needs_background": "light"
          }
        }
      ]
    },
    {
      "cell_type": "markdown",
      "metadata": {
        "id": "S4jPLSTpb-s2"
      },
      "source": [
        "##Research Question 5 (Which directors have the highest vote average movies?)"
      ]
    },
    {
      "cell_type": "code",
      "metadata": {
        "id": "8wbaJu8KZ8a6"
      },
      "source": [
        "df['director'] = df['director'].apply(lambda x: x.split(\"|\")[0])"
      ],
      "execution_count": null,
      "outputs": []
    },
    {
      "cell_type": "code",
      "metadata": {
        "colab": {
          "base_uri": "https://localhost:8080/",
          "height": 295
        },
        "id": "wrRy00mFXBnD",
        "outputId": "8b4dde34-1270-4fc5-f536-0d258504ac32"
      },
      "source": [
        "# Creating a list for the Movies Directors :\n",
        "\n",
        "directors_list = []\n",
        "\n",
        "for director in df['director'] :  \n",
        "    if director not in directors_list :\n",
        "        directors_list.append(director)\n",
        "\n",
        "# Creating a list for the sum of vote_average for each director :\n",
        "vote_average_sum_list = []\n",
        "\n",
        "for director in directors_list :\n",
        "    filtered_by_director = df[df[\"director\"]== director]\n",
        "    vote_average_sum = filtered_by_director[\"vote_average\"].sum()\n",
        "    vote_average_sum_list.append(vote_average_sum)\n",
        "\n",
        "# Get the number of votes for each director :\n",
        "num_of_votes_list = []\n",
        "\n",
        "for director in directors_list :\n",
        "    num_of_votes = df[df[\"director\"] == director].shape[0]\n",
        "    num_of_votes_list.append(num_of_votes)\n",
        "  \n",
        "# Sorting directors descendingly according to average of votes :\n",
        "\n",
        "sorted_average_of_votes_list = sorted(vote_average_sum_list, reverse=True)\n",
        "\n",
        "sorted_directors_list = []\n",
        "\n",
        "for value in sorted_average_of_votes_list :\n",
        "\n",
        "    original_average_vote_index = vote_average_sum_list.index(value)\n",
        "  \n",
        "    director = directors_list[original_average_vote_index]\n",
        "    sorted_directors_list.append(director) \n",
        "  \n",
        "# plotting the result:\n",
        "\n",
        "plt.bar(sorted_directors_list[:4],sorted_average_of_votes_list[:4],width=0.3)\n",
        "plt_show(\"director Name\",\"Total Movies votes\",\"Most Voted directors\")\n"
      ],
      "execution_count": null,
      "outputs": [
        {
          "output_type": "display_data",
          "data": {
            "image/png": "[encoded data removed]",
            "text/plain": [
              "<Figure size 432x288 with 1 Axes>"
            ]
          },
          "metadata": {
            "needs_background": "light"
          }
        }
      ]
    },
    {
      "cell_type": "markdown",
      "metadata": {
        "id": "7-2-VVz7XBnD"
      },
      "source": [
        "This statistic shows the directors who have the most voted movies , but there are alot of directors who have little number of movies which affect their rate"
      ]
    },
    {
      "cell_type": "markdown",
      "metadata": {
        "id": "rxLaZ962XBnD"
      },
      "source": [
        "So we have to get the average votes for the movies for each director"
      ]
    },
    {
      "cell_type": "code",
      "metadata": {
        "colab": {
          "base_uri": "https://localhost:8080/",
          "height": 297
        },
        "id": "U7GPuDpAXBnE",
        "outputId": "3b20ddd0-6edc-4264-a7a3-deb609b6ffb9"
      },
      "source": [
        "# Get the average votes for each director :\n",
        "\n",
        "average_of_votes_list = []\n",
        "\n",
        "for i in range(len(directors_list)) :\n",
        "\n",
        "    average_of_votes = vote_average_sum_list[i] / num_of_votes_list[i]\n",
        "    average_of_votes_list.append(average_of_votes)\n",
        "\n",
        "# Sorting directors descendingly according to average of votes :\n",
        "\n",
        "sorted_average_of_votes_list = sorted(average_of_votes_list, reverse=True)\n",
        "\n",
        "sorted_directors_list = []\n",
        "\n",
        "\n",
        "copy_of_average_of_votes_list =  average_of_votes_list.copy()\n",
        "\n",
        "for value in sorted_average_of_votes_list :\n",
        "    find_index = copy_of_average_of_votes_list.index(value)\n",
        "  \n",
        "    director = directors_list[find_index]\n",
        "    copy_of_average_of_votes_list[find_index] = \"used\" # I added this line due to the presence of many directors\n",
        "                                                       # who have the same votes\n",
        "    sorted_directors_list.append(director)\n",
        "\n",
        " \n",
        "# plotting the result:\n",
        "\n",
        "plt.bar(sorted_directors_list[:4],sorted_average_of_votes_list[:4],width=0.2)\n",
        "plt_show(\"director Name\",\"Average of Movies votes\",\"Most Voted directors\")\n"
      ],
      "execution_count": null,
      "outputs": [
        {
          "output_type": "display_data",
          "data": {
            "image/png": "[encoded data removed]",
            "text/plain": [
              "<Figure size 432x288 with 1 Axes>"
            ]
          },
          "metadata": {
            "needs_background": "light"
          }
        }
      ]
    },
    {
      "cell_type": "markdown",
      "metadata": {
        "id": "7_bu8qghvzuc"
      },
      "source": [
        "#Conclusions"
      ]
    },
    {
      "cell_type": "markdown",
      "metadata": {
        "id": "lg9j8jBDv326"
      },
      "source": [
        "After analyzing this dataset we found :\n",
        "\n",
        "1. The most popular genres of movies in each year \n",
        "2. There is a poisitive correlation between movie revenues and popularity\n",
        "3. There's no strong relation between the popularity and tha vote average\n",
        "4. There's no strong relation between the Budget and tha vote average\n",
        "5. Nicolas Cage movies is the highest voted movies in the whole data, while David Gilmour movies has the highest average of votes\n",
        "6. Woody Allen movies is the highest voted movies in the whole data, while David Mallet movies has the highest average of votes"
      ]
    },
    {
      "cell_type": "markdown",
      "metadata": {
        "id": "NVuYVPMHyt73"
      },
      "source": [
        "#Limitations"
      ]
    },
    {
      "cell_type": "markdown",
      "metadata": {
        "id": "pVmXc_F1yx9U"
      },
      "source": [
        "1. We dropped some rows that would affect the analysis\n",
        "2. The values after the pipe (|) characters that we deleted would have changed the analysis\n",
        "3. If we had the missing budgets and revenues (zero budgets and revenues) the analysis may change"
      ]
    }
  ]
}